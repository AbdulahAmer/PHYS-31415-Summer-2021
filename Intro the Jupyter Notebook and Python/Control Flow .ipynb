{
 "cells": [
  {
   "cell_type": "markdown",
   "metadata": {},
   "source": [
    "# Control Flow! What is it and why does it matter. \n",
    "\n",
    "Control flow is essentially how we order code to solve problems, for example if I was to make a script that would count from 0 to 100, and then stop, I would have to do a few different things. I would need to first, create some code that could repeatedly do something like counting, and secondly include a stopping condition for that code so it does not count forever. \n",
    "\n",
    "Our control flow for this simple script will be as follows, \n",
    "\n",
    "1) start at 0 (starting number).\n",
    "2) count up (+1) (get a new number).\n",
    "3) check to see if new number is 100.\n",
    "4) if no, repeat steps 1-3 but with our new number as our starting number.\n",
    "5) if yes, stop. \n",
    "\n",
    "This may seem complicated, but do not worry after some practice you will see this type of problem is easy and comes up alot. It combines two essential mechanisms of coding in python, it combines the power of loops and if statements. \n",
    "\n",
    "We have already met print statements, data types, and variables, but those things do not really do anything on their own. we can start doing interesting and non trivial things once we learn about loops and if statements. \n",
    "\n",
    "Loops are ways we can do things over and over again without having to write new code 100 or 100000 times. Think about it, I could write out a line of code for every number from 0 to 100 to carry out our example script from above but that is way too much work, good programmers (and arguably good physicists) are amongst the laziest people in the world. Things should be simpler whenever possible. \n",
    "\n",
    "If statements are tools we use to create boolean conditions. Booleans are variables that are True or False, named after [George Boole ](https://en.wikipedia.org/wiki/George_Boole). We can say things like, \"if the current number is 100, stop.\" , an essential part from our example script above, if the statement is True , we stop our code, if it is False we just keep going until we hit 100. \n",
    "\n",
    "If all of this is still confusing let me show you all about loops and if statements and then how to count to 100 the Python way. "
   ]
  },
  {
   "cell_type": "markdown",
   "metadata": {},
   "source": [
    "### For loops and While loops\n",
    "\n",
    "Loops come in two flavors, For and While. Both are good and sometimes they can help you find multiple solutions to the same problem. \n",
    "\n",
    "A for loop does something FOR a certain amount of predefined iterations. \n",
    "\n",
    "Lets say I wanted to print the numbers from 0 to 100, I would not write \n",
    "\n",
    "```python \n",
    "print(0)\n",
    "print(1)\n",
    "print(2)\n",
    "print(3)\n",
    "...\n",
    "```\n",
    "that would simply take forever and I do not have that kind of time, instead I can say for some dummy variable in some range(x) print out the dummy variable. Here I say say for i in a range of 100 print out i, every time we go through the loop i will increase by one. (range is a super useful builtin Python function. "
   ]
  },
  {
   "cell_type": "code",
   "execution_count": 8,
   "metadata": {},
   "outputs": [
    {
     "name": "stdout",
     "output_type": "stream",
     "text": [
      "0,1,2,3,4,5,6,7,8,9,10,11,12,13,14,15,16,17,18,19,20,21,22,23,24,25,26,27,28,29,30,31,32,33,34,35,36,37,38,39,40,41,42,43,44,45,46,47,48,49,50,51,52,53,54,55,56,57,58,59,60,61,62,63,64,65,66,67,68,69,70,71,72,73,74,75,76,77,78,79,80,81,82,83,84,85,86,87,88,89,90,91,92,93,94,95,96,97,98,99,"
     ]
    }
   ],
   "source": [
    "for i in range(100): # I define my dummy variable and my range that I will iterate over \n",
    "    print(i, end=',') # I do my thing which is printing whatever the dummy variable is \n",
    "                    # the end =',' is added so that the output gets printed more compactly! super optional."
   ]
  },
  {
   "cell_type": "markdown",
   "metadata": {},
   "source": [
    "While loops do not do something FOR a specified amount , they do things WHILE a condition is being satisfied "
   ]
  },
  {
   "cell_type": "code",
   "execution_count": 12,
   "metadata": {},
   "outputs": [
    {
     "name": "stdout",
     "output_type": "stream",
     "text": [
      "0,1,2,3,4,5,6,7,8,9,10,11,12,13,14,15,16,17,18,19,20,21,22,23,24,25,26,27,28,29,30,31,32,33,34,35,36,37,38,39,40,41,42,43,44,45,46,47,48,49,50,51,52,53,54,55,56,57,58,59,60,61,62,63,64,65,66,67,68,69,70,71,72,73,74,75,76,77,78,79,80,81,82,83,84,85,86,87,88,89,90,91,92,93,94,95,96,97,98,99,"
     ]
    }
   ],
   "source": [
    "i=0 # with while loops we need to give our dummy variable a value since it is not looking for i in something like a range\n",
    "while i<100: # while i is less than 100 we iterate through the loop\n",
    "    print(i, end=',') # we do our thing and print our dummy variable i \n",
    "    i=i+1  # we add 1 to i each time we loop through, this is ESSENTIAL to while loops, without this i would always \n",
    "            # EQUAL 0 and the loop would NEVER end! "
   ]
  },
  {
   "cell_type": "markdown",
   "metadata": {},
   "source": [
    "### Try it yourself\n",
    "\n",
    "As you can see from my output is that my code for both loops only prints 0 to 99 and not 0 to 100. What can you do to edit the code as to actually print 0 to 100, this is a good exercise to see how counting in Python works and what ways we can adjust our code to satisfy our needs! "
   ]
  },
  {
   "cell_type": "markdown",
   "metadata": {},
   "source": [
    "### If statement\n",
    "\n",
    "Easy to understand and hard to master, it is essentiall a condition followed by what to do if that condition is met \n",
    "\n",
    "```Python\n",
    "if condition: \n",
    "    do something \n",
    "\n",
    "    \n",
    "if 2<100: \n",
    "    print('2 is less than 100') \n",
    "\n",
    "    \n",
    "if 101>100: \n",
    "    print('101 is greater than 100')\n",
    "    \n",
    "if 100==100: \n",
    "    print('these two numbers are equivalent') \n",
    "    \n",
    "```\n",
    "The easiest example of conditional statements are less than, greater than or equal to using numbers, but we can also work with other vairables like strings. \n",
    "\n",
    "```Python \n",
    "\n",
    "# create a string to test against another \n",
    "\n",
    "string_1 = \"I Love Physics\" \n",
    "string_2 = 'i love physics' \n",
    "\n",
    "if string_1 == string_2: \n",
    "    print('These strings are the same') \n",
    "    \n",
    "```\n",
    "\n",
    "Lets see if these strings are the same! "
   ]
  },
  {
   "cell_type": "code",
   "execution_count": 13,
   "metadata": {},
   "outputs": [],
   "source": [
    "# create a string to test against another \n",
    "\n",
    "string_1 = \"I Love Physics\" \n",
    "string_2 = 'i love physics' \n",
    "\n",
    "if string_1 == string_2: \n",
    "    print('These strings are the same') \n",
    "    "
   ]
  },
  {
   "cell_type": "markdown",
   "metadata": {},
   "source": [
    "We got no output so it is easy to think that the above code did not do anything, this begs the question, can I create if statements for when things do not meet my conditions? If statements best friends, elif and else, help us solve this problem! \n",
    "\n",
    "we can try something like this, after an if statment we can put an else statement, an else statement satisfys every other condition other than the one stated in its corresponding if statement. \n",
    "\n",
    "```Python \n",
    "\n",
    "# create a string to test against another \n",
    "\n",
    "string_1 = \"I Love Physics\" \n",
    "string_2 = 'i love physics' \n",
    "\n",
    "if string_1 == string_2: \n",
    "    print('These strings are the same') \n",
    "\n",
    "else: \n",
    "    print('These strings are NOT the same')\n",
    "    \n",
    "```\n",
    "\n",
    "Lets try it out! We should get some output to reassure us now. \n"
   ]
  },
  {
   "cell_type": "code",
   "execution_count": 14,
   "metadata": {},
   "outputs": [
    {
     "name": "stdout",
     "output_type": "stream",
     "text": [
      "These strings are NOT the same\n"
     ]
    }
   ],
   "source": [
    "# create a string to test against another \n",
    "\n",
    "string_1 = \"I Love Physics\" \n",
    "string_2 = 'i love physics' \n",
    "\n",
    "if string_1 == string_2: \n",
    "    print('These strings are the same') \n",
    "\n",
    "else: \n",
    "    print('These strings are NOT the same')\n",
    "    "
   ]
  },
  {
   "cell_type": "markdown",
   "metadata": {},
   "source": [
    "Look at that! using if and else we can help us find holes in our logic whenever things arent equal when they should be or in many other creative ways. Lets see how we can make our counting to 100 code example in a few different ways "
   ]
  },
  {
   "cell_type": "code",
   "execution_count": 18,
   "metadata": {},
   "outputs": [
    {
     "name": "stdout",
     "output_type": "stream",
     "text": [
      "0,1,2,3,4,5,6,7,8,9,10,11,12,13,14,15,16,17,18,19,20,21,22,23,24,25,26,27,28,29,30,31,32,33,34,35,36,37,38,39,40,41,42,43,44,45,46,47,48,49,50,51,52,53,54,55,56,57,58,59,60,61,62,63,64,65,66,67,68,69,70,71,72,73,74,75,76,77,78,79,80,81,82,83,84,85,86,87,88,89,90,91,92,93,94,95,96,97,98,99,100,we counted until 100!\n"
     ]
    }
   ],
   "source": [
    "# using a for loop \n",
    "\n",
    "for i in range(101): \n",
    "    \n",
    "    print(i, end=',')\n",
    "    \n",
    "    if i == 100: \n",
    "        \n",
    "        print('we counted until 100!')\n",
    "        "
   ]
  },
  {
   "cell_type": "code",
   "execution_count": 20,
   "metadata": {},
   "outputs": [
    {
     "name": "stdout",
     "output_type": "stream",
     "text": [
      "0,1,2,3,4,5,6,7,8,9,10,11,12,13,14,15,16,17,18,19,20,21,22,23,24,25,26,27,28,29,30,31,32,33,34,35,36,37,38,39,40,41,42,43,44,45,46,47,48,49,50,51,52,53,54,55,56,57,58,59,60,61,62,63,64,65,66,67,68,69,70,71,72,73,74,75,76,77,78,79,80,81,82,83,84,85,86,87,88,89,90,91,92,93,94,95,96,97,98,99,100,we counted until 100!\n"
     ]
    }
   ],
   "source": [
    "# using a while loop \n",
    "\n",
    "i=0 # starting point for our loop \n",
    "\n",
    "while i <= 100: \n",
    "    \n",
    "    print(i, end=',')\n",
    "    \n",
    "    if i == 100: \n",
    "        \n",
    "        print('we counted until 100!')\n",
    "        \n",
    "    i+=1"
   ]
  },
  {
   "cell_type": "markdown",
   "metadata": {},
   "source": [
    "### As we can see we can solve the same problem multiple ways! \n",
    "\n",
    "There is more than one way to skin Schrodingers cat, remember to always try different angles so you can learn and grow. \n",
    "\n",
    "If you have any questions shoot me an email or ask in the github discussion page! "
   ]
  },
  {
   "cell_type": "code",
   "execution_count": null,
   "metadata": {},
   "outputs": [],
   "source": []
  }
 ],
 "metadata": {
  "kernelspec": {
   "display_name": "Python 3",
   "language": "python",
   "name": "python3"
  },
  "language_info": {
   "codemirror_mode": {
    "name": "ipython",
    "version": 3
   },
   "file_extension": ".py",
   "mimetype": "text/x-python",
   "name": "python",
   "nbconvert_exporter": "python",
   "pygments_lexer": "ipython3",
   "version": "3.9.2"
  }
 },
 "nbformat": 4,
 "nbformat_minor": 4
}
