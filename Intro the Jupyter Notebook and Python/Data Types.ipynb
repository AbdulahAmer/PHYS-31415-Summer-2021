{
 "cells": [
  {
   "cell_type": "markdown",
   "metadata": {},
   "source": [
    "## Let us explore the different types of data we can use in our variables. "
   ]
  },
  {
   "cell_type": "code",
   "execution_count": 1,
   "metadata": {},
   "outputs": [],
   "source": [
    "just_an_integer = 12 # a plain old number with no fractional parts \n",
    "\n",
    "a_float = 3.1415 # a float is a decimal that has a certain number of digits\n",
    "\n",
    "plain_old_string = 'Hey, I am a string!' # a character or list of characters wrapped in single or double quotes \n",
    "\n",
    "boolean_true = True # True or false, good for ifelse statements and comparative operators \n",
    " \n",
    "boolean_false = False\n",
    "\n",
    "a_list = [ True, 6, 18.99, \"potato\", False] # a list is a list (duh) of elements that can have lots of different data types\n",
    "                                            # or even a single type or even other lists with their own elemetns! \n",
    "    \n"
   ]
  }
 ],
 "metadata": {
  "kernelspec": {
   "display_name": "Python 3",
   "language": "python",
   "name": "python3"
  },
  "language_info": {
   "codemirror_mode": {
    "name": "ipython",
    "version": 3
   },
   "file_extension": ".py",
   "mimetype": "text/x-python",
   "name": "python",
   "nbconvert_exporter": "python",
   "pygments_lexer": "ipython3",
   "version": "3.9.2"
  }
 },
 "nbformat": 4,
 "nbformat_minor": 4
}
