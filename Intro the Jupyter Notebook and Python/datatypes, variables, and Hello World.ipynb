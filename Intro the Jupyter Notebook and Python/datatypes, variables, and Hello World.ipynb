{
 "cells": [
  {
   "cell_type": "markdown",
   "metadata": {},
   "source": [
    "# Welcome! \n",
    "\n",
    "I am Abdulah Amer and I will be teaching you the basics of Jupyter Notebook and Python! In the future we will build up to running Quantum Computing simulations and so much more! \n",
    "\n",
    "## P.S. \n",
    "\n",
    "If you have not downloaded Jupyter Notebook or Python or do not know what is going on please check out the [GitHub repository](https://github.com/AbdulahAmer/PHYS-31415-Summer-2021) for this course.\n",
    "\n",
    "\n",
    "## Cells\n",
    "\n",
    "Jupyter Notebook is a programming environment with which we can write out python scripts to do our bidding. One of its main features is using code cells. These cells allow us to run a little bit of code at a time, this is very useful for troubleshooting, saving on runtime and creating neat blocks of code that we can move around freely. \n",
    "\n",
    "First things first, you can click the \"+\" in the upper left hand corner next to the save icon to create new \"cells\". \n",
    "\n",
    "You can run a cell by using the SHIFT key + Enter Key. Running the cell executes the code that you wrote into it and will give you an output if you asked for it. Also, if there was no new cell underneath the cell you just ran it will automatically make a new one. \n",
    "\n"
   ]
  },
  {
   "cell_type": "markdown",
   "metadata": {},
   "source": [
    "### Basic cell practice \n",
    "\n",
    "Jupyter can actually be used as a desk calculator and is good practice to see that you can run each cell and get some results. \n",
    "\n",
    "Run the following cells in your own Notebook and see how they work maybe play around with different numbers and operations, although we will cover Python Math in another lesson. "
   ]
  },
  {
   "cell_type": "code",
   "execution_count": 1,
   "metadata": {},
   "outputs": [
    {
     "data": {
      "text/plain": [
       "2"
      ]
     },
     "execution_count": 1,
     "metadata": {},
     "output_type": "execute_result"
    }
   ],
   "source": [
    "1 + 1 "
   ]
  },
  {
   "cell_type": "code",
   "execution_count": 2,
   "metadata": {},
   "outputs": [
    {
     "data": {
      "text/plain": [
       "4"
      ]
     },
     "execution_count": 2,
     "metadata": {},
     "output_type": "execute_result"
    }
   ],
   "source": [
    "6 - 2"
   ]
  },
  {
   "cell_type": "markdown",
   "metadata": {},
   "source": [
    "## Creating markdown cells \n",
    "\n",
    "Another lure of Jupyter Notebook over other programming environments is that we have different types of cells. \n",
    "\n",
    "The ones we used above to do out basic calculations are code cells, they naturally run code. \n",
    "\n",
    "The other basic type of cells we can use to take notes or write out our thoughts or create reports are markdown cells. That is what this cell of text is, a markdown cell. \n",
    "\n",
    "\n",
    "While in a cell you can you ESC + M to make it a markdown cell or go to the cell drowpdown above and click on cell type and choose markdown. \n",
    "\n",
    "As well you can use Latex markdown in Jupyter Notebook to write out equations and expressions and other cool things like this: \n",
    "\n",
    "$$\\begin{equation}\n",
    "  pr(Z_n=k|Z_0=0) =\n",
    "    \\begin{cases}\n",
    "   {{n}\\choose{\\frac{1}{2}(k+n)}} p^{\\frac{1}{2}(k+n)} q^{\\frac{1}{2}(n-k)}, & \\frac{1}{2}(k+n)\\in \\mathbb{N} \\cup \\{0\\}; \\\\\n",
    "      0, & \\text{otherwise}\n",
    "    \\end{cases}       \n",
    "\\end{equation} $$\n",
    "\n",
    "Please do not worry about this equation, it is just something to give you a look at how powerful Jupyter Notebook is and an extent of what you can do with it. \n",
    "\n",
    "You can read more on what you can do [here](https://jupyter-notebook.readthedocs.io/en/stable/examples/Notebook/Working%20With%20Markdown%20Cells.html)."
   ]
  },
  {
   "cell_type": "markdown",
   "metadata": {},
   "source": [
    "## Python Basics\n",
    "\n",
    "Python is a fairly easy to learn and hard to master programming language. It may seem daunting at first but with lots of googling and practice anyone can and should learn how to code on some level. \n",
    "\n",
    "### Variables \n",
    "\n",
    "We can declare variables (things we can use by name later in our code) , for example let us say I needed the number 7 for later, but I did not want to keep writing 7, I can make it a variable, let's call is 'my_variable'. \n",
    "\n",
    "```python\n",
    "my_variable = 7 \n",
    "```\n",
    "We can declare all types of things as variables, this includes numbers(integers, decimals, math expressions etc.) , strings (characters or a combination of characters that are wrapped in single or double quotation marks), and objects like lists(a collection of elements, think array, wrapped in brackets '\\[  \\]'). \n",
    "\n",
    "```python\n",
    "# some examples of making different variables \n",
    "\n",
    "my_integer = 8 \n",
    "\n",
    "my_decimal = 3.1415\n",
    "\n",
    "my_expression = my_integer + my_decimal \n",
    "\n",
    "my_string_1 = \"a string\" \n",
    "\n",
    "my_string_2 = 'another string' \n",
    "\n",
    "my_list = [ my_integer, my_decimal, my_expression, my_string_1, my_string_2]\n",
    "```\n",
    "### Print \n",
    "\n",
    "We can see what is inside our variables by using the classic print statement. We will use this alot, \n",
    "the first well known code that beginners run is called Hello World! This is how it goes, run the following in your own cell!  \n"
   ]
  },
  {
   "cell_type": "code",
   "execution_count": 3,
   "metadata": {},
   "outputs": [
    {
     "name": "stdout",
     "output_type": "stream",
     "text": [
      "Hello World!\n"
     ]
    }
   ],
   "source": [
    "print(\"Hello World!\")"
   ]
  },
  {
   "cell_type": "markdown",
   "metadata": {},
   "source": [
    "If done properly you should see the Hello World! text displayed. Now let us put all those variables in a cell and print them out in another cell. "
   ]
  },
  {
   "cell_type": "code",
   "execution_count": 4,
   "metadata": {},
   "outputs": [],
   "source": [
    "my_integer = 8 \n",
    "\n",
    "my_decimal = 3.1415\n",
    "\n",
    "my_expression = my_integer + my_decimal \n",
    "\n",
    "my_string_1 = \"a string\" \n",
    "\n",
    "my_string_2 = 'another string' \n",
    "\n",
    "my_list = [ my_integer, my_decimal, my_expression, my_string_1, my_string_2]"
   ]
  },
  {
   "cell_type": "code",
   "execution_count": 5,
   "metadata": {},
   "outputs": [
    {
     "name": "stdout",
     "output_type": "stream",
     "text": [
      "8\n",
      "3.1415\n",
      "11.1415\n",
      "a string\n",
      "another string\n",
      "[8, 3.1415, 11.1415, 'a string', 'another string']\n"
     ]
    }
   ],
   "source": [
    "print(my_integer)\n",
    "\n",
    "print(my_decimal)\n",
    "\n",
    "print(my_expression)\n",
    "\n",
    "print(my_string_1)\n",
    "\n",
    "print(my_string_2)\n",
    "\n",
    "print(my_list)"
   ]
  },
  {
   "cell_type": "markdown",
   "metadata": {},
   "source": [
    "### More Printing \n",
    "\n",
    "This printing is ok! We can clean it up a bit by adding to our print statements, we can print multiple things by seprating them with a comma. \n",
    "\n",
    "I can print out a simple label as a string as wella as the the thing I want to print out, this helps us see what is going on clearer when there are multiple print statements. Try it yourself! "
   ]
  },
  {
   "cell_type": "code",
   "execution_count": 6,
   "metadata": {},
   "outputs": [
    {
     "name": "stdout",
     "output_type": "stream",
     "text": [
      "my integer:  8\n",
      "my decimal:  3.1415\n",
      "my expression:  11.1415\n",
      "my first string: a string\n",
      "my second string:  another string\n",
      "my list:  [8, 3.1415, 11.1415, 'a string', 'another string']\n"
     ]
    }
   ],
   "source": [
    "print('my integer: ', my_integer)\n",
    "\n",
    "print('my decimal: ', my_decimal)\n",
    "\n",
    "print('my expression: ', my_expression)\n",
    "\n",
    "print('my first string:', my_string_1)\n",
    "\n",
    "print('my second string: ', my_string_2)\n",
    "\n",
    "print('my list: ', my_list)"
   ]
  },
  {
   "cell_type": "markdown",
   "metadata": {},
   "source": [
    "This is really clean and helpful! I encourage you to use these simple tools to get insights on your code and to print out your results at the end of calculations or large blocks of code or how to troubleshoot code all the time. Please share this notebook and my GitHub if it helped you out and check my [GitHub](https://github.com/AbdulahAmer/PHYS-31415-Summer-2021) for more lessons! "
   ]
  }
 ],
 "metadata": {
  "kernelspec": {
   "display_name": "Python 3",
   "language": "python",
   "name": "python3"
  },
  "language_info": {
   "codemirror_mode": {
    "name": "ipython",
    "version": 3
   },
   "file_extension": ".py",
   "mimetype": "text/x-python",
   "name": "python",
   "nbconvert_exporter": "python",
   "pygments_lexer": "ipython3",
   "version": "3.9.2"
  }
 },
 "nbformat": 4,
 "nbformat_minor": 4
}
