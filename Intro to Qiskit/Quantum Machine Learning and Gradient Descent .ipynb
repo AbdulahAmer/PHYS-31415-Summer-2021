{
 "cells": [
  {
   "cell_type": "markdown",
   "metadata": {},
   "source": [
    "# Notes\n",
    "\n",
    "### Quantum version of k-nearest neighbour method\n",
    "\n",
    "* Pattern classification using k-nearest neighbour algorithm \n",
    "\n",
    "* Given some training set $\\large{\\tau}$ of feature vectors along with their corresponding classifications, and an unlassified input vector $\\vec{x}$, we can choose a classification for the input vector that appears most among its k-nearest neighbours. \n",
    "\n",
    "* Works by minimizing a \"distance\", this can be using a Euclidean distance, the inner product and the hamming distance (encode vectors by using bit strings, the hamming distance is the number of flips needed to get from one bit string representation of a vector to another) \n",
    "\n",
    "![schuld et al](Images/schuld_et_al.PNG)\n",
    "\n",
    "* Overlap or fidelity $|\\langle a | b\\rangle| $ of two quantum states $|a\\rangle$ and $|b\\rangle$ as a 'similarity measure'. Fidelity can be optained through a swap test. \n",
    "\n",
    "* Take a quantum state $|a,b 0_{anc}\\rangle $ , we use Hadammard gate on the Ancilla qubit, then a controlled SWAP gate on a and b (swap if ancilla is in $|1\\rangle$. Then use a second Hadamard gate on the ancilla and we get \n",
    "\n",
    "$$ |\\psi_{swap}\\rangle = \\frac{1}{2}|0\\rangle(|a,b\\rangle + |b,a\\rangle) +\\frac{1}{2}|1\\rangle(|a,b\\rangle - |b,a\\rangle) $$ \n",
    "\n",
    "Finding the anilla qubit in the ground state has probability, \n",
    "\n",
    "$$ P(|0_{anc}\\rangle) = \\frac{1}{2} + \\frac{1}{2}|\\langle a | b\\rangle|^2 $$\n",
    "\n",
    "getting $\\frac{1}{2}$ shows that we have orthogonal states and getting $1$ says we have equaivalent states which means we have maximum overlap. "
   ]
  },
  {
   "cell_type": "markdown",
   "metadata": {},
   "source": [
    "# What is Machine Learning \n",
    "\n",
    "Machine Learning is most widely used for pattern finding and classification,  Given some training set $\\large{\\tau}$ of feature vectors along with their corresponding classifications, and an unlcassified input vector $\\vec{x}$ how do we classify this input vector? These are the type of questions we want to answer. \n",
    "\n",
    "A feature vector is a vector that contains data realted to features of the data set. For example if we were talking about a data set with cars, features could be make and model and year. A feature vector could be something like ['Honda' , 'Pilot' , 2015]. Using more data about the vehicle a Machine learning algorithm can see that a picture of a Honda Pilot has some values for certain features and hopefully become better at distinguishing the Honda Pilot from other vehicles. Even more simply we can use things like weight or size to classify input vectors as cars and not tanks (assuming we are looking at tanks that are bigger and heavier than cars this is just an example of how there are features that are potentially more useful than others).\n",
    "\n",
    "\n"
   ]
  },
  {
   "cell_type": "markdown",
   "metadata": {},
   "source": [
    "# Variatonal Circuts \n",
    "\n",
    "### Ever changing quantum circuits \n",
    "\n",
    "Paramterized circuits, also known as variational circuits, are quantum circuits with tunable variables. \n",
    "\n",
    "How they work is that we set up a circuit in some state of a Unitary Operator , lets call it $U(\\theta)$. This prepares the circuit in some state which is dependent on $\\theta$, we then take a measurement and use this value to adjust theta and use this new value to feed into a new quatnum circuit. This is very similar to how Gradient Descent in machine learning algorithms work, we tune parameters to minimize a \"cost\" function, in this case the measurement of our quantum circuit is out \"cost\". (Cost is a fancy way to say how off we are from a desired result, getting something absolutely wrong would have a high cost, getting exactly correct would have a cost of 0)\n",
    "\n",
    "### Building our circuits \n",
    "\n",
    "We essentially want to turn classical information, tunable variable(s) like $\\theta$ into Quantum information by using some operator on a state, encoding the classical information into a quantum state! \n",
    "\n",
    "We sometimes have other non-changing values like $x = (x_1, x_2, x_3 ...)$ as well that we want to input. This would just make our Operator a function of $x$ and $\\theta$, $U(x;\\theta)$.\n",
    "\n",
    "We get classical information back from our circuit by taking the expectation value of some observable. (Literally anything we can call it $\\hat{A}$. Expectation value to get a cost function $f(x;\\theta)$ would look like this, \n",
    "\n",
    "$$ f(x;\\theta) = \\langle 0 | U(x;\\theta)^{\\large{\\dagger}} \\hat{A} U(x;\\theta) |0\\rangle$$ \n",
    "\n",
    "We aim to optimize this expectation value or \"cost\" with respect to $\\theta$ as mentioned before. For example if our operator $\\hat{A}$ is the Hamiltonian of the system (total energy), then we can approximate ground states by minimizing the expectation value above. \n",
    "\n",
    "Other Optimization methods need us to approximate the gradient at every single iteration of our variational circuit, other optimizations that are from compicated need high order derivatives. \n",
    "\n",
    "## Gradeint descent and how to update paramters\n",
    "\n",
    "We can update $\\theta$ by using a common Machine Learning algorithm known as gradient descent. Essentially we take our cost function and take its gradient (derivative) with respect to the parameter we want to change ($\\theta$) and then subtract that from the current value of theta (mutliplied by a learning rate $\\eta$ which is usually a very small number). \n",
    "\n",
    "The Gradeint descent looks like this, \n",
    "\n",
    "$$ \\theta_{n} = \\theta_{n-1} - \\eta \\nabla_\\theta f(\\theta_{n-1}) $$\n",
    "\n",
    "We use the parameter shift rule to find an easy gradient of our expectation value (cost) $f(\\theta)$, \n",
    "\n",
    "We can write out our expression from before ( we only care about $\\theta$ for our purposes, \n",
    "\n",
    "$$ f(\\theta) = \\langle 0 | U(\\theta)^{\\large{\\dagger}} \\hat{A} U(\\theta) |0\\rangle$$ \n",
    "\n",
    "and we can express $U(\\theta)$ in an exponential form since it is a unitary gate, \n",
    "\n",
    "$$U(\\theta) = e^{ia\\theta\\hat{V}}$$\n",
    "\n",
    "Here $\\hat{V}$ is a Hermitian Generator of our gate $U(\\theta)$.\n",
    "\n",
    "The parameter shift rule tells us that if a generator of a gate ($\\hat{V}$), only has two unique eigenvalues $\\lambda_1$, $\\lambda_2$, then the derivative of $f(\\theta)$ is proportional to the difference in expectation values of two new circuits that have their parameters shifted by $\\frac{\\pi}{4r},\\frac{-\\pi}{4r}$. \n",
    "\n",
    "Explicitly, \n",
    "\n",
    "$$ \\nabla_\\theta f(\\theta) = r [f(\\theta + \\frac{\\pi}{4r}) - f(\\theta - \\frac{\\pi}{4r})]$$\n",
    "\n",
    "the shift constant r is mostly convention, but could be explicity chosen from the eigenvalues by using,\n",
    "\n",
    "$$r=\\frac{a}{2}(\\lambda_2 - \\lambda_1 )$$ \n",
    "\n",
    "For many operators just using $r=\\frac{1}{2}$ works out fine so we do not have to worry about that part too much. Our shifts become $\\frac{\\pi}{2},\\frac{-\\pi}{2}$.\n",
    "\n",
    "\n",
    "\n",
    "\n",
    "## Problem \n",
    "\n",
    "Can we use gradient descent to set paramters for operators to make sure we get certain probability or state as a result of our circuit?\n"
   ]
  },
  {
   "cell_type": "markdown",
   "metadata": {},
   "source": [
    "## Imports (there is a new one!)\n"
   ]
  },
  {
   "cell_type": "code",
   "execution_count": 108,
   "metadata": {},
   "outputs": [],
   "source": [
    "# Do not forget to Import Qiskit \n",
    "\n",
    "from qiskit.visualization import * \n",
    "from qiskit import *\n",
    "\n",
    "S_simulator=Aer.backends(name='statevector_simulator')[0] \n",
    "M_simulator=Aer.backends(name='qasm_simulator')[0] \n",
    "\n",
    "# new import allows us to use CircuitOP() and CircuitStateFn() as well as operators I,X,Y,Z etc.\n",
    "\n",
    "from qiskit.aqua.operators import *\n",
    "from qiskit.quantum_info import random_unitary"
   ]
  },
  {
   "cell_type": "markdown",
   "metadata": {},
   "source": [
    "### How do we take expectation values in Python! H gate example\n",
    "\n",
    "There are some good tricks we can do we can convert operators and circuits into operators and wavefunctions, we can use CircuitOp() and CricuitStateFn() to do so.\n",
    "\n",
    "lets see an example with the Hadammard gate! "
   ]
  },
  {
   "cell_type": "code",
   "execution_count": 116,
   "metadata": {},
   "outputs": [
    {
     "name": "stdout",
     "output_type": "stream",
     "text": [
      "expectation value:  0.7071067811865476\n"
     ]
    }
   ],
   "source": [
    "op=QuantumCircuit(1) # make an operator circuit, and turn it into an operator! DO NOT add a classical bit\n",
    "\n",
    "op.h(0)\n",
    "\n",
    "op =CircuitOp(op)\n",
    "\n",
    "psi = QuantumCircuit(1) # make a wavefunction circuit. \n",
    "\n",
    "psi=CircuitStateFn(psi)\n",
    "\n",
    "# psi is our ket and we can use psi.adjoint() to get its complext conjugate, the bra \n",
    "\n",
    "# so to do an expectation value of <psi| H |psi> we just do psi.adjoint() on H |psi> this can be done in the following way\n",
    "\n",
    "print('expectation value: ', psi.adjoint().compose(op).compose(psi).eval().real)"
   ]
  },
  {
   "cell_type": "markdown",
   "metadata": {},
   "source": [
    "### More complicated oeprators H2 Hamiltonian Example\n",
    "\n",
    "The import of qiskit.aqua.operators lets us call our basic operators by I, X, Y, Z etc. \n",
    "\n",
    "We can use that to define the hamilitonian of diatomic Hydrogen! Great stack exchange answer provided by Cryoris\n",
    "[here](https://quantumcomputing.stackexchange.com/questions/12080/evaluating-expectation-values-of-operators-in-qiskit).\n",
    "\n",
    "I am actually unsure if the hamiltonian is correct this is more so an example to shopw that we can use mroe complicated operators. "
   ]
  },
  {
   "cell_type": "code",
   "execution_count": 43,
   "metadata": {},
   "outputs": [
    {
     "name": "stdout",
     "output_type": "stream",
     "text": [
      "expectation value:  -1.0636533199999998\n"
     ]
    }
   ],
   "source": [
    "op =  (-1.0523732 * I^I) + (0.39793742 * I^Z) + (-0.3979374 * Z^I) \\\n",
    "    + (-0.0112801 * Z^Z) + (0.18093119 * X^X)\n",
    "psi = QuantumCircuit(2)\n",
    "psi.x(0) \n",
    "psi.x(1) \n",
    "\n",
    "psi=CircuitStateFn(psi)\n",
    "print('expectation value: ', psi.adjoint().compose(op).compose(psi).eval().real) "
   ]
  },
  {
   "cell_type": "markdown",
   "metadata": {},
   "source": [
    "# Setting up our problem \n",
    "\n",
    "So now we can have our algorithm, we have a way to calculate a gradient and a way to take an expectation value to find our cost fucntion to get a gradient. \n",
    "\n",
    "Lets pretend to use a random unitary matrix as a pretend hamiltonian for some system and minimize that to find the ground state. \n"
   ]
  },
  {
   "cell_type": "code",
   "execution_count": 129,
   "metadata": {},
   "outputs": [
    {
     "name": "stdout",
     "output_type": "stream",
     "text": [
      "starting thetas:  [0.6457574481996964, 3.363282012748121, 4.9023225339127565, 1.3839620579899377, 4.807211745029281]\n"
     ]
    }
   ],
   "source": [
    "# Try to follow along a problem from a paper [1]\n",
    "\n",
    "# construct a circuit with 5 parameters. \n",
    "\n",
    "from random import uniform \n",
    "from math import pi\n",
    "\n",
    "thetas = []\n",
    "n=5\n",
    "\n",
    "for i in range(n): \n",
    "    \n",
    "    thetas.append(uniform(0,2*pi))\n",
    "\n",
    "theta1 = thetas[0]\n",
    "\n",
    "theta2 = thetas[1]\n",
    "\n",
    "theta3 = thetas[2]\n",
    "\n",
    "theta4 = thetas[3]\n",
    "\n",
    "theta5 = thetas[4]\n",
    "\n",
    "print('starting thetas: ', thetas)\n",
    "\n",
    "# these random thetas are the starting values for our rotation operators\n"
   ]
  },
  {
   "cell_type": "code",
   "execution_count": 141,
   "metadata": {},
   "outputs": [
    {
     "data": {
      "image/png": "[encoded data removed]",
      "text/plain": [
       "<Figure size 688.597x325.08 with 1 Axes>"
      ]
     },
     "execution_count": 141,
     "metadata": {},
     "output_type": "execute_result"
    }
   ],
   "source": [
    "variational_circuit=QuantumCircuit(5)\n",
    "\n",
    "#rotations that are dependent on theta\n",
    "variational_circuit.rx(theta1, 0)\n",
    "variational_circuit.rx(theta2, 1)\n",
    "variational_circuit.rx(theta3, 2)\n",
    "variational_circuit.rx(theta4, 3)\n",
    "variational_circuit.rx(theta5, 4)\n",
    "\n",
    "variational_circuit.barrier()\n",
    "\n",
    "\n",
    "#entangling block (dont worry too much)\n",
    "\n",
    "variational_circuit.cx(0,1)\n",
    "\n",
    "variational_circuit.barrier()\n",
    "\n",
    "variational_circuit.cx(2,1)\n",
    "\n",
    "variational_circuit.barrier()\n",
    "\n",
    "variational_circuit.cx(3,1)\n",
    "\n",
    "variational_circuit.barrier()\n",
    "\n",
    "variational_circuit.cx(4,3)\n",
    "\n",
    "variational_circuit.barrier()\n",
    "\n",
    "\n",
    "variational_circuit.draw(output='mpl')"
   ]
  },
  {
   "cell_type": "markdown",
   "metadata": {},
   "source": [
    "This circuit we constructed is our $U(\\theta)$ we can turn this into an operator using code from above"
   ]
  },
  {
   "cell_type": "code",
   "execution_count": 142,
   "metadata": {},
   "outputs": [],
   "source": [
    "U = CircuitOp(variational_circuit)"
   ]
  },
  {
   "cell_type": "markdown",
   "metadata": {},
   "source": [
    "Our observable that we will measure will just be the Pauli-Z gate! (following a paper's convention I will just use Z on the second qubit) "
   ]
  },
  {
   "cell_type": "code",
   "execution_count": 144,
   "metadata": {},
   "outputs": [],
   "source": [
    "Z = QuantumCircuit(5)\n",
    "\n",
    "Z.z(1)\n",
    "\n",
    "Z = CircuitOp(Z)"
   ]
  },
  {
   "cell_type": "code",
   "execution_count": 146,
   "metadata": {},
   "outputs": [],
   "source": [
    "# we can easily find the complex conjugate of the U "
   ]
  },
  {
   "cell_type": "code",
   "execution_count": 145,
   "metadata": {},
   "outputs": [],
   "source": [
    "U_dag = U.adjoint()"
   ]
  },
  {
   "cell_type": "markdown",
   "metadata": {},
   "source": [
    "Reminder of our equations, \n",
    "\n",
    "$$ f(\\theta) = \\langle 0 | U(\\theta)^{\\large{\\dagger}} Z U(\\theta) |0\\rangle$$ \n",
    "\n",
    "$$ \\nabla_\\theta f(\\theta) = \\frac{1}{2} [f(\\theta + \\frac{\\pi}{2}) - f(\\theta - \\frac{\\pi}{2})]$$\n",
    "\n",
    "before calculating the gradient we can create wavefucntions that are in the 0 state like we did above in our example"
   ]
  },
  {
   "cell_type": "code",
   "execution_count": 147,
   "metadata": {},
   "outputs": [],
   "source": [
    "psi = QuantumCircuit(5) # make a wavefunction circuit. \n",
    "\n",
    "psi=CircuitStateFn(psi)\n"
   ]
  },
  {
   "cell_type": "markdown",
   "metadata": {},
   "source": [
    "We edit our code by using more compose() to find expectation values"
   ]
  },
  {
   "cell_type": "code",
   "execution_count": 149,
   "metadata": {},
   "outputs": [
    {
     "name": "stdout",
     "output_type": "stream",
     "text": [
      "expectation value:  -0.027321660520389934\n"
     ]
    }
   ],
   "source": [
    "print('expectation value: ', \n",
    "psi.adjoint().compose(U_dag).compose(Z).compose(U).compose(psi).eval().real) "
   ]
  },
  {
   "cell_type": "markdown",
   "metadata": {},
   "source": [
    "Now we can find the shifted expectation values to find the gradient\n",
    "\n",
    "$\\nabla_\\theta f(\\theta)$ by adding $\\pi/2$ and $-\\pi/2$ to the thetas and taking 2 expectation values seperately and taking their difference. This is much easier if we can wrap our circuit in a function that takes theta as a variable. Then another function that makes our operators for us. Another function that will take expectation values for us, and a final function that can hopefully run our algorithm for us. "
   ]
  },
  {
   "cell_type": "code",
   "execution_count": 175,
   "metadata": {},
   "outputs": [],
   "source": [
    "def make_variational_circuit(thetas): \n",
    "    \n",
    "    theta1 = thetas[0]\n",
    "\n",
    "    theta2 = thetas[1]\n",
    "\n",
    "    theta3 = thetas[2]\n",
    "\n",
    "    theta4 = thetas[3]\n",
    "\n",
    "    theta5 = thetas[4]\n",
    "    \n",
    "    variational_circuit=QuantumCircuit(5)\n",
    "\n",
    "    #rotations that are dependent on theta\n",
    "    variational_circuit.rx(theta1, 0)\n",
    "    variational_circuit.rx(theta2, 1)\n",
    "    variational_circuit.rx(theta3, 2)\n",
    "    variational_circuit.rx(theta4, 3)\n",
    "    variational_circuit.rx(theta5, 4)\n",
    "\n",
    "    variational_circuit.barrier()\n",
    "\n",
    "\n",
    "    #entangling block (dont worry too much)\n",
    "\n",
    "    variational_circuit.cx(0,1)\n",
    "\n",
    "    variational_circuit.barrier()\n",
    "\n",
    "    variational_circuit.cx(2,1)\n",
    "\n",
    "    variational_circuit.barrier()\n",
    "\n",
    "    variational_circuit.cx(3,1)\n",
    "\n",
    "    variational_circuit.barrier()\n",
    "\n",
    "    variational_circuit.cx(4,3)\n",
    "\n",
    "    variational_circuit.barrier()\n",
    "\n",
    "    return variational_circuit\n",
    "\n",
    "def get_U_and_U_dag(variational_circuit): \n",
    "    \n",
    "    U = CircuitOp(variational_circuit)\n",
    "    \n",
    "    U_dag = U.adjoint()\n",
    "    \n",
    "    return U, U_dag\n",
    "\n",
    "\n",
    "# We can hardcode Z in here but thats not great convention \n",
    "# this is strictly for example and not practical \n",
    "\n",
    "def expectation_value(U, U_dag):\n",
    "    \n",
    "    psi = QuantumCircuit(5) # make a wavefunction circuit. \n",
    "\n",
    "    psi=CircuitStateFn(psi)\n",
    "\n",
    "    Z = QuantumCircuit(5)\n",
    "\n",
    "    Z.z(1)\n",
    "\n",
    "    Z = CircuitOp(Z)\n",
    "    \n",
    "    return psi.adjoint().compose(U_dag.compose(Z.compose(U))).compose(psi).eval().real"
   ]
  },
  {
   "cell_type": "code",
   "execution_count": 176,
   "metadata": {},
   "outputs": [],
   "source": [
    "# to shift our thetas it can be done a number of ways\n",
    "\n",
    "thetas_plus = []\n",
    "\n",
    "thetas_minus = []\n",
    "\n",
    "for i in range(len(thetas)): \n",
    "    \n",
    "    thetas_plus.append(thetas[i]+(0.5*pi))\n",
    "    \n",
    "    thetas_minus.append(thetas[i]-(0.5*pi))"
   ]
  },
  {
   "cell_type": "code",
   "execution_count": 177,
   "metadata": {},
   "outputs": [],
   "source": [
    "# our first gradient can be calculated now\n",
    "\n",
    "def get_eval(thetas): \n",
    "    \n",
    "    variational_circuit = make_variational_circuit(thetas)\n",
    "    \n",
    "    U, U_dag = get_U_and_U_dag(variational_circuit)\n",
    "    \n",
    "    return expectation_value(U,U_dag)"
   ]
  },
  {
   "cell_type": "code",
   "execution_count": 178,
   "metadata": {},
   "outputs": [],
   "source": [
    "\n",
    "def get_gradient(thetas): \n",
    "    \n",
    "    thetas_plus = []\n",
    "\n",
    "    thetas_minus = []\n",
    "\n",
    "    for i in range(len(thetas)): \n",
    "\n",
    "        thetas_plus.append(thetas[i]+(0.5*pi))\n",
    "\n",
    "        thetas_minus.append(thetas[i]-(0.5*pi))\n",
    "        \n",
    "        \n",
    "    f_plus = get_eval(thetas_plus)\n",
    "\n",
    "    f_minus = get_eval(thetas_minus)\n",
    "    \n",
    "    \n",
    "    return 0.5*(f_plus - f_minus)"
   ]
  },
  {
   "cell_type": "code",
   "execution_count": 199,
   "metadata": {},
   "outputs": [
    {
     "data": {
      "text/plain": [
       "-2.0816681711721685e-17"
      ]
     },
     "execution_count": 199,
     "metadata": {},
     "output_type": "execute_result"
    }
   ],
   "source": [
    "get_gradient(thetas)"
   ]
  },
  {
   "cell_type": "markdown",
   "metadata": {},
   "source": [
    "Remember how we update our thetas\n",
    "\n",
    "$$ \\theta_{n} = \\theta_{n-1} - \\eta \\nabla_\\theta f(\\theta_{n-1}) $$\n",
    "\n",
    "we need to choose a learning rate $\\eta$"
   ]
  },
  {
   "cell_type": "code",
   "execution_count": 225,
   "metadata": {},
   "outputs": [],
   "source": [
    "\n",
    "\n",
    "def update_thetas(thetas): \n",
    "    \n",
    "    learning_rate=0.2\n",
    "    gradient = get_gradient(thetas)\n",
    "    \n",
    "    updated_thetas=[]\n",
    "    \n",
    "    for i in range(len(thetas)): \n",
    "\n",
    "        updated_thetas.append(thetas[i] - (learning_rate*gradient))\n",
    "\n",
    "        \n",
    "    return updated_thetas\n"
   ]
  },
  {
   "cell_type": "markdown",
   "metadata": {},
   "source": [
    "the update_thetas fucntion will update our values, we compacted making circuits, operators, getting expectation values and updating thetas all in one function! This is an important programming lesson to create functions that can be used ('called') later on in a simple fashion. "
   ]
  },
  {
   "cell_type": "code",
   "execution_count": 222,
   "metadata": {},
   "outputs": [
    {
     "name": "stdout",
     "output_type": "stream",
     "text": [
      "thetas before update:  [138778.06518697343, 138780.7062527719, 138779.14069694903, 138778.7790895045, 138780.9653447752]\n",
      "thetas after update:  [138778.0651882565, 138780.70625405497, 138779.1406982321, 138778.77909078758, 138780.96534605828]\n"
     ]
    }
   ],
   "source": [
    "print('thetas before update: ', thetas)\n",
    "\n",
    "thetas = update_thetas(thetas)\n",
    "\n",
    "print('thetas after update: ', thetas)"
   ]
  },
  {
   "cell_type": "code",
   "execution_count": 226,
   "metadata": {},
   "outputs": [
    {
     "name": "stdout",
     "output_type": "stream",
     "text": [
      "thetas before update:  [6.283185307179586, 6.283185307179586, 6.283185307179586, 6.283185307179586, 6.283185307179586]\n",
      "gradient:  0.0\n",
      "thetas after update:  [6.283185307179586, 6.283185307179586, 6.283185307179586, 6.283185307179586, 6.283185307179586]\n"
     ]
    }
   ],
   "source": [
    "from random import uniform \n",
    "from math import pi\n",
    "\n",
    "thetas = []\n",
    "n=5\n",
    "\n",
    "for i in range(n): \n",
    "    \n",
    "    thetas.append(uniform(2*pi,2*pi))\n",
    "\n",
    "print('thetas before update: ', thetas)\n",
    "\n",
    "print('gradient: ', get_gradient(thetas))\n",
    "\n",
    "thetas = update_thetas(thetas)\n",
    "\n",
    "print('thetas after update: ', thetas)"
   ]
  },
  {
   "cell_type": "code",
   "execution_count": 224,
   "metadata": {},
   "outputs": [
    {
     "name": "stdout",
     "output_type": "stream",
     "text": [
      "0.24791325145956067 0.24791325145956045\n"
     ]
    }
   ],
   "source": [
    "thetas_plus = []\n",
    "\n",
    "thetas_minus = []\n",
    "\n",
    "for i in range(len(thetas)): \n",
    "\n",
    "    thetas_plus.append(thetas[i]+(0.5*pi))\n",
    "\n",
    "    thetas_minus.append(thetas[i]-(0.5*pi))\n",
    "\n",
    "\n",
    "f_plus = get_eval(thetas_plus)\n",
    "\n",
    "f_minus = get_eval(thetas_minus)\n",
    "print(f_plus, f_minus)"
   ]
  },
  {
   "cell_type": "code",
   "execution_count": null,
   "metadata": {},
   "outputs": [],
   "source": [
    "var = QuantumCircuit()"
   ]
  },
  {
   "cell_type": "code",
   "execution_count": null,
   "metadata": {},
   "outputs": [],
   "source": []
  },
  {
   "cell_type": "code",
   "execution_count": null,
   "metadata": {},
   "outputs": [],
   "source": []
  },
  {
   "cell_type": "markdown",
   "metadata": {},
   "source": [
    "### Example task \n",
    "\n",
    "\n",
    "Implement a circuit that returns |01> and |10> with equal probability. Requirements :The circuit should consist only of CNOTs, RXs and RYs. Start from all parameters in parametric gates being equal to 0 or randomly chosen. You should find the right set of parameters using gradient descent (you can use more advanced optimization methods if you like). Simulations must be done with sampling (i.e. a limited number of measurements per iteration) and noise. Compare the results for different numbers of measurements: 1, 10, 100, 1000. Bonus question: How to make sure you produce state |01> + |10> and not |01> - |10> ? (Actually for more careful readers, the “correct” version of this question is posted below: How to make sure you produce state |01⟩ + |10⟩ and not any other combination of |01> + e(i*phi)|10⟩ (for example |01⟩ - |10⟩)?)"
   ]
  },
  {
   "cell_type": "markdown",
   "metadata": {},
   "source": [
    "\n",
    "## References\n",
    "<a id=\"1\">[1]</a> \n",
    "Andrea Mari et al.  (2021)\n",
    "Estimating the gradient and higher-order derivatives on quantum hardware\n",
    "https://arxiv.org/pdf/2008.06517.pdf\n",
    "\n",
    "<a id=\"2\">[2]</a> \n",
    "Cryoris (2020). \n",
    "Answer from stack exchange \n",
    "\n",
    "https://quantumcomputing.stackexchange.com/questions/12080/evaluating-expectation-values-of-operators-in-qiskit\n",
    "\n",
    "<a id=\"3\">[3]</a> \n",
    "Gavin E. Crooks (2019)\n",
    "\n",
    "Gradients of parameterized quantum gates using the parameter-shift rule and gate decomposition \n",
    "https://arxiv.org/pdf/1905.13311.pdf\n",
    "\n",
    "<a id=\"4\">[4]</a> \n",
    "Gavin E. Crooks (2019)\n",
    "\n",
    "Evaluating analytic gradients on quantum hardware\n",
    "https://arxiv.org/pdf/1811.11184.pdf\n"
   ]
  },
  {
   "cell_type": "code",
   "execution_count": null,
   "metadata": {},
   "outputs": [],
   "source": []
  }
 ],
 "metadata": {
  "kernelspec": {
   "display_name": "Python 3",
   "language": "python",
   "name": "python3"
  },
  "language_info": {
   "codemirror_mode": {
    "name": "ipython",
    "version": 3
   },
   "file_extension": ".py",
   "mimetype": "text/x-python",
   "name": "python",
   "nbconvert_exporter": "python",
   "pygments_lexer": "ipython3",
   "version": "3.9.2"
  }
 },
 "nbformat": 4,
 "nbformat_minor": 4
}
