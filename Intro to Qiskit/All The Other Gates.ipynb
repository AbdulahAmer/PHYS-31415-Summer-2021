{
 "cells": [
  {
   "cell_type": "markdown",
   "metadata": {},
   "source": [
    "## Other Gates! (NOTE THESE EQUATIONS ARE NOT BEING POSTED ON GITHUB PROPERLY I WILL PUT THEM IN A SEPERATE FILE!)\n",
    "\n",
    "In lecture you have already covered the Hadamard Gate. Which looks like this (in the $ \\{ |0\\rangle , |1\\rangle \\}$ basis)\n",
    "\n",
    "$$\n",
    "H=\n",
    "\\frac{1}{\\sqrt{2}}\n",
    "\\begin{bmatrix}\n",
    "1&1 \\\\\n",
    "1&-1\n",
    "\\end{bmatrix}$$\n",
    "\n",
    "and does this \n",
    "\n",
    "$$ H|0\\rangle = |+\\rangle = \\frac{1}{\\sqrt{2}} (|0\\rangle + |1\\rangle) $$ \n",
    "   \n",
    "$$ H|1\\rangle = |-\\rangle = \\frac{1}{\\sqrt{2}} (|0\\rangle - |1\\rangle) $$\n",
    "   \n",
    "It behaves like a beam splitter by 'splitting' the amplitude evenly between our two basis states! \n",
    "\n",
    "This begs the question, what else can we do with our Qubits! Quite alot actually, so let us take a look at the other Quantum Gates and how they behave on a qubit. \n",
    "\n",
    "\n",
    "### X, Y, and Z \n",
    "\n",
    "Some very popular players in the Quantum Computing game are the Pauli Matrices, here is what they are and what they do! \n",
    "\n",
    "The X gate, also known as the NOT gate, 'flips' our qubit from one basis state to the other. \n",
    "\n",
  
    "\n",
    "$$X=\n",
    "\\begin{bmatrix}\n",
    "0&1 \\\\\n",
    "1&0\n",
    "\\end{bmatrix} $$\n",
    "\n",
    "$$ X|0\\rangle = |1\\rangle $$\n",
    "\n",
    "$$ X|1\\rangle = |0\\rangle  $$\n",
    "\n",
    "The Y gate, flips and adds a phase of $i$ or $-i$ to our state. \n",
    "\n",
    "$$\n",
    "Y=\n",
    "\\begin{bmatrix}\n",
    "0&-i \\\\\n",
    "i&0\n",
    "\\end{bmatrix}$$\n",
    "\n",
    "$$ Y|0\\rangle = i|1\\rangle $$\n",
    "   \n",
    "   $$Y|1\\rangle = -i|0\\rangle  $$\n",
    "\n",
    "The Z gate does nothing to the $|0\\rangle$ state and multiplys the amplitude by -1 for the $|1\\rangle$ state.\n",
    "\n",
    "$$\n",
    "Z=\n",
    "\\begin{bmatrix}\n",
    "1&0 \\\\\n",
    "0&-1\n",
    "\\end{bmatrix}$$\n",
    "\n",
    "$$ Z|0\\rangle = |0\\rangle $$\n",
    "   \n",
    "$$ Z|1\\rangle = -|1\\rangle  $$\n",
    "   \n",
    "\n",
    "Lets try these out in Qiskit! "
   ]
  },
  {
   "cell_type": "markdown",
   "metadata": {},
   "source": [
    "## Imports (we always need these!) "
   ]
  },
  {
   "cell_type": "code",
   "execution_count": 1,
   "metadata": {},
   "outputs": [],
   "source": [
    "from qiskit import * # this means that from the qiskit package\n",
    "                     # import ALL functionality(*)\n",
    "    \n",
    "# we also want to see our results in insightful ways through graphs! \n",
    "from qiskit.visualization import * # bloch sphere graphs, bar graphs for measurements \n",
    "\n",
    "# We also need to import the simulators that we will use to make measurements\n",
    "\n",
    "S_simulator=Aer.backends(name='statevector_simulator')[0] # allows you to simulate statevectors\n",
    "M_simulator=Aer.backends(name='qasm_simulator')[0] # allows you to simulate measurements"
   ]
  },
  {
   "cell_type": "markdown",
   "metadata": {},
   "source": [
    "### Remember that all quantum circuits start in the |0> state, so we must intitialize in |1> to see how these gates act on |1>!"
   ]
  },
  {
   "cell_type": "code",
   "execution_count": 2,
   "metadata": {},
   "outputs": [
    {
     "name": "stdout",
     "output_type": "stream",
     "text": [
      "Initial state:  [1.+0.j 0.+0.j]\n",
      "state after X gate:  [0.+0.j 1.+0.j]\n"
     ]
    }
   ],
   "source": [
    "# X gate on |0> \n",
    "\n",
    "# make the circuit with one qubit and one classical bit\n",
    "qc=QuantumCircuit(1,1)\n",
    "\n",
    "# print out initial state to confirm that something happens when we use our gate! \n",
    "initial_state=execute(qc, S_simulator).result().get_statevector()\n",
    "print('Initial state: ', initial_state)\n",
    "\n",
    "# use the x gate on the first qubit\n",
    "qc.x(0)\n",
    "\n",
    "# print out results! \n",
    "state_after_gate= execute(qc, S_simulator).result().get_statevector()\n",
    "print('state after X gate: ', state_after_gate)"
   ]
  },
  {
   "cell_type": "code",
   "execution_count": 3,
   "metadata": {},
   "outputs": [
    {
     "name": "stdout",
     "output_type": "stream",
     "text": [
      "Initial state:  [0.+0.j 1.+0.j]\n",
      "state after X gate:  [1.+0.j 0.+0.j]\n"
     ]
    }
   ],
   "source": [
    "# X gate on |1> \n",
    "\n",
    "# make the circuit with one qubit and one classical bit\n",
    "qc=QuantumCircuit(1,1)\n",
    "\n",
    "# Initialize circuit to |1> \n",
    "one = [0,1]\n",
    "qc.initialize(one, 0)\n",
    "\n",
    "# print out initial state to confirm that something happens when we use our gate! \n",
    "initial_state=execute(qc, S_simulator).result().get_statevector()\n",
    "print('Initial state: ', initial_state)\n",
    "\n",
    "# use the x gate on the first qubit\n",
    "qc.x(0)\n",
    "\n",
    "# print out results! \n",
    "state_after_gate= execute(qc, S_simulator).result().get_statevector()\n",
    "print('state after X gate: ', state_after_gate)"
   ]
  },
  {
   "cell_type": "code",
   "execution_count": 4,
   "metadata": {},
   "outputs": [
    {
     "name": "stdout",
     "output_type": "stream",
     "text": [
      "Initial state:  [1.+0.j 0.+0.j]\n",
      "state after X gate:  [0.-0.j 0.+1.j]\n"
     ]
    }
   ],
   "source": [
    "# Y gate on |0> \n",
    "\n",
    "# make the circuit with one qubit and one classical bit\n",
    "qc=QuantumCircuit(1,1)\n",
    "\n",
    "# print out initial state to confirm that something happens when we use our gate! \n",
    "initial_state=execute(qc, S_simulator).result().get_statevector()\n",
    "print('Initial state: ', initial_state)\n",
    "\n",
    "# use the x gate on the first qubit\n",
    "qc.y(0)\n",
    "\n",
    "# print out results! \n",
    "state_after_gate= execute(qc, S_simulator).result().get_statevector()\n",
    "print('state after X gate: ', state_after_gate)"
   ]
  },
  {
   "cell_type": "code",
   "execution_count": 5,
   "metadata": {},
   "outputs": [
    {
     "name": "stdout",
     "output_type": "stream",
     "text": [
      "Initial state:  [0.+0.j 1.+0.j]\n",
      "state after X gate:  [0.-1.j 0.+0.j]\n"
     ]
    }
   ],
   "source": [
    "# Y gate on |1> \n",
    "\n",
    "# make the circuit with one qubit and one classical bit\n",
    "qc=QuantumCircuit(1,1)\n",
    "\n",
    "# Initialize circuit to |1> \n",
    "one = [0,1]\n",
    "qc.initialize(one, 0)\n",
    "\n",
    "# print out initial state to confirm that something happens when we use our gate! \n",
    "initial_state=execute(qc, S_simulator).result().get_statevector()\n",
    "print('Initial state: ', initial_state)\n",
    "\n",
    "# use the x gate on the first qubit\n",
    "qc.y(0)\n",
    "\n",
    "# print out results! \n",
    "state_after_gate= execute(qc, S_simulator).result().get_statevector()\n",
    "print('state after X gate: ', state_after_gate)"
   ]
  },
  {
   "cell_type": "code",
   "execution_count": 6,
   "metadata": {},
   "outputs": [
    {
     "name": "stdout",
     "output_type": "stream",
     "text": [
      "Initial state:  [1.+0.j 0.+0.j]\n",
      "state after Z gate:  [ 1.+0.j -0.+0.j]\n"
     ]
    }
   ],
   "source": [
    "# Z gate on |0> \n",
    "\n",
    "# make the circuit with one qubit and one classical bit\n",
    "qc=QuantumCircuit(1,1)\n",
    "\n",
    "# print out initial state to confirm that something happens when we use our gate! \n",
    "initial_state=execute(qc, S_simulator).result().get_statevector()\n",
    "print('Initial state: ', initial_state)\n",
    "\n",
    "# use the x gate on the first qubit\n",
    "qc.z(0)\n",
    "\n",
    "# print out results! \n",
    "state_after_gate= execute(qc, S_simulator).result().get_statevector()\n",
    "print('state after Z gate: ', state_after_gate)"
   ]
  },
  {
   "cell_type": "code",
   "execution_count": 7,
   "metadata": {},
   "outputs": [
    {
     "name": "stdout",
     "output_type": "stream",
     "text": [
      "Initial state:  [0.+0.j 1.+0.j]\n",
      "state after Z gate:  [ 0.+0.j -1.+0.j]\n"
     ]
    }
   ],
   "source": [
    "# Z gate on |1> \n",
    "\n",
    "# make the circuit with one qubit and one classical bit\n",
    "qc=QuantumCircuit(1,1)\n",
    "\n",
    "# Initialize circuit to |1> \n",
    "one = [0,1]\n",
    "qc.initialize(one, 0)\n",
    "\n",
    "# print out initial state to confirm that something happens when we use our gate! \n",
    "initial_state=execute(qc, S_simulator).result().get_statevector()\n",
    "print('Initial state: ', initial_state)\n",
    "\n",
    "# use the x gate on the first qubit\n",
    "qc.z(0)\n",
    "\n",
    "# print out results! \n",
    "state_after_gate= execute(qc, S_simulator).result().get_statevector()\n",
    "print('state after Z gate: ', state_after_gate)"
   ]
  }
 ],
 "metadata": {
  "kernelspec": {
   "display_name": "Python 3",
   "language": "python",
   "name": "python3"
  },
  "language_info": {
   "codemirror_mode": {
    "name": "ipython",
    "version": 3
   },
   "file_extension": ".py",
   "mimetype": "text/x-python",
   "name": "python",
   "nbconvert_exporter": "python",
   "pygments_lexer": "ipython3",
   "version": "3.9.2"
  }
 },
 "nbformat": 4,
 "nbformat_minor": 4
}
