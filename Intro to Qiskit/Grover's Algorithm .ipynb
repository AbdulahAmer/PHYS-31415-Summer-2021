{
 "cells": [
  {
   "cell_type": "markdown",
   "metadata": {},
   "source": [
    "# Grover's search \n",
    "\n",
    "Please refer to: \n",
    "\n",
    "* Chapter 16 of Cottrell \n",
    "\n",
    "* Chapter 6 of Neilsen and Chaung \n",
    "\n",
    "For theory and examples. \n",
    "\n",
    "There is alot to cover with theory and things, from a up and coming veteran's perspective I would say PRACTICE PRACTICE, go through the calculations in class on your own and do them from scratch step by step until you can at least kind of get through the reasoning and math. With algorithms like Grover and Shor it can be tricky , so follow the state through the circuit and practice alot!  \n",
    "\n",
    "I will be covering how to do the search not really the why here since there is alot of machinery here. Mostly the HOW. \n",
    "\n",
    "### The how of the Grover \n",
    "\n",
    "* Initialize $n$ top qubits in $|0\\rangle$ and a bottom qubit in $|1\\rangle$. \n",
    "\n",
    "* Apply $H^{\\otimes n}$ to top qubits and $H$ to bottom qubit.\n",
    "\n",
    "* Apply the Oracle Black Box. \n",
    "\n",
    "* Apply $H^{\\otimes n}$ to top qubits.\n",
    "\n",
    "* Apply Conditional Phase Shift where every computational basis state other than $|0\\rangle$ gets a phase of -1 to top qubits. \n",
    "\n",
    "* Apply $H^{\\otimes n}$ to top qubits and $H$ to bottom qubit.\n",
    "\n",
    "\n",
    "Lets try it out in Qiskit! \n",
    "\n"
   ]
  },
  {
   "cell_type": "markdown",
   "metadata": {},
   "source": [
    "## Imports "
   ]
  },
  {
   "cell_type": "code",
   "execution_count": 1,
   "metadata": {},
   "outputs": [],
   "source": [
    "# Do not forget to Import Qiskit \n",
    "\n",
    "from qiskit.visualization import * \n",
    "from qiskit import * \n",
    "\n",
    "S_simulator=Aer.backends(name='statevector_simulator')[0] \n",
    "M_simulator=Aer.backends(name='qasm_simulator')[0] "
   ]
  },
  {
   "cell_type": "markdown",
   "metadata": {},
   "source": [
    "# Circuit \n",
    "\n",
    "(N=2^n) where n=2 \n",
    "\n",
    "We will discuss the black box at the end! "
   ]
  },
  {
   "cell_type": "code",
   "execution_count": 2,
   "metadata": {},
   "outputs": [
    {
     "data": {
      "image/png": "[encoded data removed]",
      "text/plain": [
       "<Figure size 1411x264.88 with 1 Axes>"
      ]
     },
     "execution_count": 2,
     "metadata": {},
     "output_type": "execute_result"
    }
   ],
   "source": [
    "# We will have two top qubits (n=2) and one bottom qubit so our circuit \n",
    "# will have 3 qubits in total. \n",
    "\n",
    "# Initialize ***\n",
    "\n",
    "grover = QuantumCircuit(3,3)\n",
    "\n",
    "# put the last qubit into the |1> state.\n",
    "\n",
    "one=[0,1]\n",
    "\n",
    "grover.initialize(one, 1)\n",
    "\n",
    "#barrier to seperate steps for organization \n",
    "grover.barrier()\n",
    "\n",
    "# Apply H to all the gates *** \n",
    "grover.h(0)\n",
    "grover.h(1)\n",
    "grover.h(2)\n",
    "\n",
    "#barrier to seperate steps for organization \n",
    "grover.barrier()\n",
    "\n",
    "#Black box Oracle ***\n",
    "grover.append(circuit.library.MCXGate(2, ctrl_state='10'), [0,1,2]) \n",
    "grover.barrier()\n",
    "\n",
    "# Phase Shift ***\n",
    "\n",
    "# Apply H to top qubits\n",
    "grover.h(0)\n",
    "grover.h(1) \n",
    "\n",
    "# Apply X to top qubits\n",
    "grover.x(0)\n",
    "grover.x(1)\n",
    "\n",
    "#barrier for organization\n",
    "grover.barrier()\n",
    "\n",
    "\n",
    "# H on second qubit\n",
    "grover.h(1)\n",
    "\n",
    "#barrier for organization\n",
    "grover.barrier()\n",
    "\n",
    "# Cnot on first and second qubits\n",
    "grover.cx(0,1)\n",
    "\n",
    "# barrier for organization\n",
    "grover.barrier()\n",
    "\n",
    "# H on second qubit\n",
    "grover.h(1)\n",
    "\n",
    "#barrier\n",
    "grover.barrier()\n",
    "\n",
    "# X on first and second qubits\n",
    "grover.x(0)\n",
    "grover.x(1)\n",
    "\n",
    "#barrier\n",
    "grover.barrier()\n",
    "\n",
    "# Apply H at the end ***\n",
    "grover.h(0)\n",
    "grover.h(1)\n",
    "grover.h(2)\n",
    "\n",
    "# barrier\n",
    "grover.barrier()\n",
    "\n",
    "\n",
    "# measure all the qubits and put the measurements in their corresponding classical bits \n",
    "\n",
    "grover.measure([0,1,2], [0,1,2])\n",
    "\n",
    "#draw it out \n",
    "\n",
    "grover.draw(output='mpl')"
   ]
  },
  {
   "cell_type": "markdown",
   "metadata": {},
   "source": [
    "# Taking a look at the Oracle or Black box operator\n",
    "\n",
    "Our Operator changes depending on what we are looking for, in this case we use a multicontrolled controlled X gate, (see Cottrell Chapter 16 exercises #1 for reference) , the MCX (multicontrolled X gate) is a bigger version of CNOT gate used to look for more complicated states as conditions to apply X to the target gate. \n",
    "\n",
    "In this case I assumed we wanted to look for the $|01\\rangle$ state. \n",
    "\n",
    "How we code this out \n",
    "\n",
    "```Python\n",
    "grover.append(circuit.library.MCXGate(2, ctrl_state='10'), [0,1,2])  \n",
    "```\n",
    "\n",
    "We Appended the MCX to out circuit which we pulled from the Qiskit circuit library. \n",
    "It takes the inputs of the target qubit and the control state (ctrl_state). The append function takes two inputs , the gate we are appending and where we are appending it to, so we use a list of all our qubits , the first, second and third qubits respectively, hence the [0,1,2]. \n",
    "\n",
    "Here we see the target qubit is 2, this here means our third or last qubit, remember Python counts starting at 0. \n",
    "\n",
    "We also see the ctrl_state='10' , Qiskit uses a reverse encoding, that means the last qubit is written first, so if we wanted to use $|01\\rangle$ as the control state then we would use ctrl_state='10' as the input for out MCX gate. \n",
    "\n",
    "the ctrl_state='01' input would correspond to looking for the  $|10\\rangle$ state.\n",
    "\n",
    "Playing with the input you can create different oracles in this case there are $ N = 2^n = 4$ possible oracles we can discuss since there are only 4 possible states to look for here.  "
   ]
  },
  {
   "cell_type": "code",
   "execution_count": null,
   "metadata": {},
   "outputs": [],
   "source": []
  }
 ],
 "metadata": {
  "kernelspec": {
   "display_name": "Python 3",
   "language": "python",
   "name": "python3"
  },
  "language_info": {
   "codemirror_mode": {
    "name": "ipython",
    "version": 3
   },
   "file_extension": ".py",
   "mimetype": "text/x-python",
   "name": "python",
   "nbconvert_exporter": "python",
   "pygments_lexer": "ipython3",
   "version": "3.9.2"
  }
 },
 "nbformat": 4,
 "nbformat_minor": 4
}
