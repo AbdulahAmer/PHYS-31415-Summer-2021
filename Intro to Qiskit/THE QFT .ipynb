{
 "cells": [
  {
   "cell_type": "markdown",
   "metadata": {},
   "source": [
    "# The Quantum Fourier Transform \n",
    "\n",
    "One of the Most fundamental parts of many quantum algorithms is the QFT. We can take a discrete Fourier transform of the probability amplitudes of a wavefunction. \n",
    "\n",
    "It makes something powerful, like Shor's algorithm feasible and impressive. \n",
    "\n",
    "The math is a little tricky so please do practice carrying out calculations, we will cover teh implementation in Qiskit. \n",
    "\n",
    "\n",
    "### Review some math \n",
    "\n",
    "Essentially the fourier transform is a mapping of $|j\\rangle$ states to $|k\\rangle$ states, using this relationship,\n",
    "\n",
    "$$|j\\rangle \\rightarrow \\frac{1}{\\sqrt{N}} \\sum_{k=0}^{N-1} e^{2\\pi i \\frac{jk}{N}} |k\\rangle $$\n",
    "\n",
    "Going from $|j\\rangle$ to $|k\\rangle$ can be shown using a Quantum operator $U_{QFT}$, \n",
    "\n",
    "$$ U_{QFT} = \\frac{1}{\\sqrt{N}} \\sum_{j=0}^{N-1}  \\sum_{k=0}^{N-1} e^{2\\pi i \\frac{jk}{N}} |k\\rangle \\langle j| $$\n",
    "\n",
    "\n",
    "### The Gate Keepers of the QFT \n",
    "\n",
    "There are two (three maybe one) essential gates that allow us to implement the QFT. \n",
    "\n",
    "* We First Apply the Hadamard gate to the first qubit.\n",
    "\n",
    "* Next apply a Controlled Rotation (CROT) on the first and second qubit, then the first and third, then the first and fourth....then the first and last qubit. \n",
    "\n",
    "* Apply the Hadamard gat to the second qubit.\n",
    "\n",
    "* Apply CROT between second and third qubit, second and fourth....second and last qubit. \n",
    "\n",
    "* Continue this patternt unitl you just apply the Hadamard gate to the final qubit.\n",
    "\n",
    "* Swap each n qubit with its N-n partner, so the first 0th qubit gets swapped with the N-0 qubit, the last qubit. The second, 1st qubit gets swapped with the N-1, second to last qubit etc. \n",
    "\n",
    "### CROT \n",
    "\n",
    "CROT is a controlled rotation gate rotates our qubit, giving it a phase, in Qiskit its just called a controlled phase gate (CP). It takes some value theta to rotate our target qubit, this value will change everytime we rotate each successive qubit. We will follow, \n",
    "\n",
    "$$ \\theta = \\frac{\\pi}{2^{k-1}} $$ \n",
    "\n",
    "We will rotate each first qubit by $\\frac{\\pi}{2}$ and the next $\\frac{\\pi}{4}$ and so on and so forth. \n",
    "\n",
    "### Qiskit implementation\n",
    "\n",
    "We can Create a really useful function that will make the circuit for us, for more reference please check out the [QFT](https://qiskit.org/textbook/ch-algorithms/quantum-fourier-transform.html#3.-Example-1:-1-qubit-QFT-) from the qiskit textbook. \n",
    "\n",
    "I will walk you through the process of the code, essentially we will do the same protocol backwards (swaps at the end). We will apply H and CROT to the last qubit and then work our way up, this works out because of how Qiskit prints out states, that is most significant qubit first, and that we can use a powerful tool when writing functions called recursion, that allows us to call our function inside it self to carry on the H and CROT pattern until the whole entire function has been passed through. \n",
    "\n",
    "How do we implement this in Qiskit? \n"
   ]
  },
  {
   "cell_type": "markdown",
   "metadata": {},
   "source": [
    "## Imports ( Import Pi from Python math) "
   ]
  },
  {
   "cell_type": "code",
   "execution_count": 1,
   "metadata": {},
   "outputs": [],
   "source": [
    "# Do not forget to Import Qiskit \n",
    "\n",
    "from qiskit.visualization import * \n",
    "from qiskit import * \n",
    "\n",
    "S_simulator=Aer.backends(name='statevector_simulator')[0] \n",
    "M_simulator=Aer.backends(name='qasm_simulator')[0] \n",
    "\n",
    "from math import pi\n"
   ]
  },
  {
   "cell_type": "markdown",
   "metadata": {},
   "source": [
    "## Creating a function to apply H and CROT (CP) "
   ]
  },
  {
   "cell_type": "code",
   "execution_count": 2,
   "metadata": {},
   "outputs": [],
   "source": [
    "# lets make a fucntions called rotate we do this in python by using def and \n",
    "# then the function name along with the variables we want our function to take and a colon\n",
    "\n",
    "def rotations(circuit, n): \n",
    "    \n",
    "    # if we went through the whole circuit, we do not have to do anymore work\n",
    "    # just return the circuit we made\n",
    "    if n == 0: \n",
    "        return circuit \n",
    "    \n",
    "    \n",
    "    # circuit is the QuantumCircuit we want to use the qft on, \n",
    "    # n is the number of qubits in the circuit \n",
    "    n-=1 # 4th qubit is in the n=3 spot on the circuit\n",
    "        # mth qubit is on the n=m-1 spot on the circuit\n",
    "        # also allows us to reduce down to n = 0 and to stop doing the rotations\n",
    "        \n",
    "    circuit.h(n) # Apply Hadamard gate to the qubit we are currently working on\n",
    "    \n",
    "    for qubit in range(n): \n",
    "        \n",
    "        # now use controlled phase gate to rotate \n",
    "        # also divide the rotation angle by 2 each time \n",
    "        \n",
    "        circuit.cp(pi/2**(n-qubit), qubit, n) # circuit.cp() takes three arguments \n",
    "                                            # (theta, target qubit, control qubit) \n",
    "            \n",
    "        #so the first time through in this loop the dummy  variable \n",
    "        # \"qubit\" is 0 , so we will do rotation of of pi/2**(n-0) on the 0th qubit using the\n",
    "        # nth qubit as a control qubit. And so on and so forth. \n",
    "        \n",
    "        \n",
    "    rotations(circuit, n) # do the same thing to the next qubit     \n"
   ]
  },
  {
   "cell_type": "markdown",
   "metadata": {},
   "source": [
    "Lets Draw out what we have for an example of 5 qubits"
   ]
  },
  {
   "cell_type": "code",
   "execution_count": 3,
   "metadata": {},
   "outputs": [
    {
     "data": {
      "image/png": "[encoded data removed]",
      "text/plain": [
       "<Figure size 989.597x385.28 with 1 Axes>"
      ]
     },
     "execution_count": 3,
     "metadata": {},
     "output_type": "execute_result"
    }
   ],
   "source": [
    "qc = QuantumCircuit(5,5)\n",
    "rotations(qc,5)\n",
    "qc.draw(output='mpl')"
   ]
  },
  {
   "cell_type": "markdown",
   "metadata": {},
   "source": [
    "That looks great! Now we just need to swap our registers, we can make a function for that, and put both our rotations and swap functions together to make a new function that does the QFT seamlessly! (uberly does not have the same ring to it) "
   ]
  },
  {
   "cell_type": "code",
   "execution_count": 4,
   "metadata": {},
   "outputs": [],
   "source": [
    "def swap_qubits(circuit,n): \n",
    "    \n",
    "    # only need to loop through half of the circuit, since we swap two qubits at a time\n",
    "    \n",
    "    for qubit in range(n//2): # // floor function helps us round down when we have odd qubits \n",
    "        circuit.swap(qubit, n-qubit-1)\n",
    "    return circuit \n",
    "\n",
    "def qft(circuit, n): \n",
    "    \n",
    "    rotations(circuit, n)\n",
    "    swap_qubits(circuit,n)\n",
    "    return circuit"
   ]
  },
  {
   "cell_type": "markdown",
   "metadata": {},
   "source": [
    "All together now! "
   ]
  },
  {
   "cell_type": "code",
   "execution_count": 5,
   "metadata": {
    "scrolled": true
   },
   "outputs": [
    {
     "data": {
      "image/png": "[encoded data removed]",
      "text/plain": [
       "<Figure size 1049.8x385.28 with 1 Axes>"
      ]
     },
     "execution_count": 5,
     "metadata": {},
     "output_type": "execute_result"
    }
   ],
   "source": [
    "qc=QuantumCircuit(5,5)\n",
    "qft(qc,5)\n",
    "qc.draw(output='mpl')"
   ]
  },
  {
   "cell_type": "code",
   "execution_count": 6,
   "metadata": {},
   "outputs": [],
   "source": [
    "# Note see how the 3rd qubit does not get swapped since it would swap with itself"
   ]
  },
  {
   "cell_type": "markdown",
   "metadata": {},
   "source": [
    "## Example (This is a little bit of an exploration to try and show what this does and mean, this section is admitedly sloppy you do not need it just hoping it can be cool to add to what you already learned) "
   ]
  },
  {
   "cell_type": "code",
   "execution_count": 7,
   "metadata": {},
   "outputs": [
    {
     "name": "stdout",
     "output_type": "stream",
     "text": [
      "State we need to encode to try out qft:  1010\n"
     ]
    }
   ],
   "source": [
    "# Lets take some state x and put it in the QFT and see what we get out \n",
    "\n",
    "x=10 \n",
    "\n",
    "from math import log \n",
    "def find_number_of_qubits(x): \n",
    "    \n",
    "    powers_of_two=0\n",
    "    exponent=0\n",
    "    while powers_of_two<x:\n",
    "        powers_of_two=2**exponent\n",
    "        exponent+=1\n",
    "    \n",
    "    number_of_qubits = int(log(powers_of_two,2))\n",
    "    return number_of_qubits\n",
    "\n",
    "n = find_number_of_qubits(x)  \n",
    "\n",
    "encoding = bin(x) \n",
    "# encoding has an extra '0b' that just says hey i am a binary number we can chop it off \n",
    "# by replacing it with nothing \n",
    "\n",
    "print('State we need to encode to try out qft: ', encoding.replace('0b', ''))"
   ]
  },
  {
   "cell_type": "markdown",
   "metadata": {},
   "source": [
    "We can encode our state by reading the binary and flipping qubits \n",
    "\n",
    "1010 is in the little endian encoding, the most significant bit is on the left, \n",
    "the least significant bit is on the right so this reads \n",
    "1*(2^3) + 0*(2^2) + 1*(2^1) + 0*(2^0) = 8 + 2 = 10 \n",
    "\n",
    "I like to read circuits top bottom so I would read this as big endian encoding so in reverse\n",
    "like 0101 \n",
    "\n",
    "BUT we are reversing the circuit anyway, so let us just read it in the way qiskit likes it makes things simpler. \n",
    "\n",
    "so lets use an x gate on the first qubit and third qubit so we can encode 1010 into our circuit and do the qft "
   ]
  },
  {
   "cell_type": "code",
   "execution_count": 8,
   "metadata": {},
   "outputs": [
    {
     "name": "stdout",
     "output_type": "stream",
     "text": [
      "state before QFT:  [0.+0.j 0.+0.j 0.+0.j 0.+0.j 0.+0.j 1.+0.j 0.+0.j 0.+0.j 0.+0.j 0.+0.j\n",
      " 0.+0.j 0.+0.j 0.+0.j 0.+0.j 0.+0.j 0.+0.j]\n",
      "state after QFT:  [ 2.50000000e-01-6.12323400e-17j -9.56708581e-02+2.30969883e-01j\n",
      " -1.76776695e-01-1.76776695e-01j  2.30969883e-01-9.56708581e-02j\n",
      "  7.65404249e-17+2.50000000e-01j -2.30969883e-01-9.56708581e-02j\n",
      "  1.76776695e-01-1.76776695e-01j  9.56708581e-02+2.30969883e-01j\n",
      " -2.50000000e-01+6.12323400e-17j  9.56708581e-02-2.30969883e-01j\n",
      "  1.76776695e-01+1.76776695e-01j -2.30969883e-01+9.56708581e-02j\n",
      " -7.65404249e-17-2.50000000e-01j  2.30969883e-01+9.56708581e-02j\n",
      " -1.76776695e-01+1.76776695e-01j -9.56708581e-02-2.30969883e-01j]\n"
     ]
    }
   ],
   "source": [
    "qc = QuantumCircuit(n,n) # number of qubits calculated before \n",
    "\n",
    "qc.x(0)\n",
    "qc.x(2)\n",
    "\n",
    "qc.barrier() # seperate steps with a barrier. \n",
    "\n",
    "print('state before QFT: ', execute(qc, S_simulator).result().get_statevector())\n",
    "\n",
    "qft(qc, n)\n",
    "\n",
    "print('state after QFT: ', execute(qc, S_simulator).result().get_statevector())\n"
   ]
  },
  {
   "cell_type": "code",
   "execution_count": 9,
   "metadata": {},
   "outputs": [
    {
     "name": "stdout",
     "output_type": "stream",
     "text": [
      "0.250000 -0.000000 j\n",
      "-0.095671 0.230970 j\n",
      "-0.176777 -0.176777 j\n",
      "0.230970 -0.095671 j\n",
      "0.000000 0.250000 j\n",
      "-0.230970 -0.095671 j\n",
      "0.176777 -0.176777 j\n",
      "0.095671 0.230970 j\n",
      "-0.250000 0.000000 j\n",
      "0.095671 -0.230970 j\n",
      "0.176777 0.176777 j\n",
      "-0.230970 0.095671 j\n",
      "-0.000000 -0.250000 j\n",
      "0.230970 0.095671 j\n",
      "-0.176777 0.176777 j\n",
      "-0.095671 -0.230970 j\n"
     ]
    },
    {
     "data": {
      "image/png": "[encoded data removed]",
      "text/plain": [
       "<Figure size 432x288 with 1 Axes>"
      ]
     },
     "metadata": {
      "needs_background": "light"
     },
     "output_type": "display_data"
    }
   ],
   "source": [
    "# Our output is a little messy lets grab the state and clean it up\n",
    "\n",
    "state = execute(qc, S_simulator).result().get_statevector()\n",
    "\n",
    "# we use formatting %f to print trimmed version of the real and complex parts of each amplitude \n",
    "\n",
    "# this is cool to pick up but do not worry too much about this \n",
    "\n",
    "real=[]\n",
    "imag=[]\n",
    "for i in state: \n",
    "    \n",
    "    print('%f' % i.real, '%f' % i.imag , 'j')\n",
    "    \n",
    "# We see that we get a weird repeating signal or wave of values for a constant state \n",
    "    real.append(i.real)\n",
    "    imag.append(i.imag)\n",
    "    \n",
    "from matplotlib import pyplot as plt \n",
    "\n",
    "plt.plot(range(len(state)), real)\n",
    "plt.plot(range(len(state)), imag)\n",
    "\n",
    "plt.show()"
   ]
  },
  {
   "cell_type": "code",
   "execution_count": 10,
   "metadata": {},
   "outputs": [
    {
     "name": "stdout",
     "output_type": "stream",
     "text": [
      "state before QFT:  [0.35355339+0.j 0.35355339+0.j 0.35355339+0.j 0.35355339+0.j\n",
      " 0.35355339+0.j 0.35355339+0.j 0.35355339+0.j 0.35355339+0.j]\n",
      "state after QFT:  [ 1.00000000e+00-1.83697020e-16j -2.62909324e-17+4.10582171e-17j\n",
      " -4.68750097e-17+1.43573302e-17j  4.32523755e-18+1.97261092e-17j\n",
      " -3.58404070e-17+6.12323400e-17j  1.70068704e-17+1.08900608e-17j\n",
      "  1.43573302e-17+4.68750097e-17j  4.76230404e-17-1.04420472e-17j]\n"
     ]
    }
   ],
   "source": [
    "# What would we get if we take an input where we have an even superposition of all states. \n",
    "from math import sqrt \n",
    "n=3 \n",
    "\n",
    "a= sqrt(1/(2**n)) # amplitude \n",
    "\n",
    "state=[a,a,a,a,a,a,a,a]\n",
    "\n",
    "qc=QuantumCircuit(3)\n",
    "\n",
    "qc.initialize(state, [0,1,2]) \n",
    "\n",
    "qc.barrier() # seperate steps with a barrier. \n",
    "\n",
    "print('state before QFT: ', execute(qc, S_simulator).result().get_statevector())\n",
    "\n",
    "qft(qc, n)\n",
    "\n",
    "print('state after QFT: ', execute(qc, S_simulator).result().get_statevector())\n",
    "\n",
    "\n"
   ]
  },
  {
   "cell_type": "code",
   "execution_count": 11,
   "metadata": {},
   "outputs": [
    {
     "name": "stdout",
     "output_type": "stream",
     "text": [
      "1.000000 -0.000000 j\n",
      "-0.000000 0.000000 j\n",
      "-0.000000 0.000000 j\n",
      "0.000000 0.000000 j\n",
      "-0.000000 0.000000 j\n",
      "0.000000 0.000000 j\n",
      "0.000000 0.000000 j\n",
      "0.000000 -0.000000 j\n"
     ]
    },
    {
     "data": {
      "image/png": "[encoded data removed]",
      "text/plain": [
       "<Figure size 432x288 with 1 Axes>"
      ]
     },
     "metadata": {
      "needs_background": "light"
     },
     "output_type": "display_data"
    }
   ],
   "source": [
    "# Our output is a little messy lets grab the state and clean it up\n",
    "\n",
    "state = execute(qc, S_simulator).result().get_statevector()\n",
    "\n",
    "# we use formatting %f to print trimmed version of the real and complex parts of each amplitude \n",
    "\n",
    "# this is cool to pick up but do not worry too much about this \n",
    "\n",
    "real=[]\n",
    "imag=[]\n",
    "for i in state: \n",
    "    \n",
    "    print('%f' % i.real, '%f' % i.imag , 'j')\n",
    "    \n",
    "# We see that we get a weird repeating signal or wave of values for a constant state \n",
    "    real.append(i.real)\n",
    "    imag.append(i.imag)\n",
    "    \n",
    "from matplotlib import pyplot as plt \n",
    "\n",
    "plt.plot(range(len(state)), real)\n",
    "plt.plot(range(len(state)), imag)\n",
    "\n",
    "plt.show()"
   ]
  },
  {
   "cell_type": "markdown",
   "metadata": {},
   "source": [
    "# Discussion\n",
    "\n",
    "we see that taking the QFT of an equal superposition of multiple states produces a single state! \n",
    "\n",
    "The graphs are kind of confusin but notice how we got oscillatory behavior when we put in a single state with probability of 1 , and got the opposite when we put in an equal superposition of many states! "
   ]
  }
 ],
 "metadata": {
  "kernelspec": {
   "display_name": "Python 3",
   "language": "python",
   "name": "python3"
  },
  "language_info": {
   "codemirror_mode": {
    "name": "ipython",
    "version": 3
   },
   "file_extension": ".py",
   "mimetype": "text/x-python",
   "name": "python",
   "nbconvert_exporter": "python",
   "pygments_lexer": "ipython3",
   "version": "3.9.2"
  }
 },
 "nbformat": 4,
 "nbformat_minor": 4
}
