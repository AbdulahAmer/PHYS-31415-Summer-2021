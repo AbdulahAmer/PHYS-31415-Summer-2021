{
 "cells": [
  {
   "cell_type": "markdown",
   "metadata": {},
   "source": [
    "## What is Qiskit? How do we use it? \n",
    "\n",
    "P.S If you are here and think some basic Python can help you please check out my GitHub repo with the very minimal basics [here](https://github.com/AbdulahAmer/PHYS-31415-Summer-2021/tree/main/Intro%20the%20Jupyter%20Notebook%20and%20Python).\n",
    "\n",
    "\n",
    "### What is Qiskit? \n",
    "\n",
    "Qiskit is an opensource Python package created by IBM that provides Quantum Computing simulations as well as the ability to send job requests to real life Quantum Computers. Using this really great tool and simple Python, we can explore the nuts and bolts of QC and how we can use them to really use stuff. Quantum Software is being written now in research groups to try and solve problems using Quantum Computers. The exciting part is that the boundaries of what can be done on a Quantum Computer are far from exhausted and there is alot of mathematics, physics, and computational work left to be explored! To me it always feels like a bold and fresh frontier and it has me absolutely smitten. \n",
    "\n",
    "### How do we use it? \n",
    "\n",
    "We are going to go through some examples, I highly encourage for you to try the examples I do on your own, imitation before innovation. I do not expect you to be a coding wiz, but I do want you to be the best in the world at asking questions and being curious and doing your own work. Please ask dumb questions and spam me. \n",
    "\n",
    "\n",
    "#### Today we will Make a Circuit, Use a Gate and make a Measurement\n"
   ]
  },
  {
   "cell_type": "code",
   "execution_count": 1,
   "metadata": {},
   "outputs": [
    {
     "name": "stdout",
     "output_type": "stream",
     "text": [
      "I love Quantum Computing\n"
     ]
    }
   ],
   "source": [
    "# Fyi in a code cell use a hash symbol or more coloquially known as a \n",
    "# 'hashtag' to make a line comment, comments do not get interpreted \n",
    "# by the editor and are great for leaving notes and things\n",
    "# and mostly are used to express clarity so other programmers like me \n",
    "# and yur classmates can read what you did and why you did it\n",
    "\n",
    "\"\"\"\n",
    "\n",
    "You can make block comments that spam multiple lines\n",
    "using triple quotes above and below your block. Please use these, take \n",
    "notes when you copy examples and are writing your own code\n",
    "I will try to do my best to leave these for your guys when I write code\n",
    "\n",
    "\"\"\"\n",
    "\n",
    "print('I love Quantum Computing')\n",
    "# when I run this cell it doesnt read the rest, only prints"
   ]
  },
  {
   "cell_type": "markdown",
   "metadata": {},
   "source": [
    "### Get started \n",
    "\n",
    "Assuming you already followed the directions from the class' [Github](https://github.com/AbdulahAmer/PHYS-31415-Summer-2021), you should already have everything you need to get started, this includes, Jupyter Notebook, Python, and Qiskit. \n",
    "\n",
    "So open a new Jupyter Notebook from command line and create a new folder and file and we can get started. "
   ]
  },
  {
   "cell_type": "markdown",
   "metadata": {},
   "source": [
    "### Importing Qiskit"
   ]
  },
  {
   "cell_type": "code",
   "execution_count": 2,
   "metadata": {},
   "outputs": [],
   "source": [
    "# At the top of every Notebook we use for this course we need to import\n",
    "# all the Qiskit functionality, this is done using Import \n",
    "\n",
    "from qiskit import * # this means that from the qiskit package\n",
    "                     # import ALL functionality(*)\n",
    "    \n",
    "# we also want to see our results in insightful ways through graphs! \n",
    "from qiskit.visualization import * # bloch sphere graphs, bar graphs for measurements \n",
    "\n",
    "# We also need to import the simulators that we will use to make measurements\n",
    "\n",
    "S_simulator=Aer.backends(name='statevector_simulator')[0] # allows you to simulate statevectors\n",
    "M_simulator=Aer.backends(name='qasm_simulator')[0] # allows you to simulate measurements \n",
    "    \n",
    "# You should be able to run this import with NO ERRORS, if you do get an \n",
    "# error please contact me so we can trouble shoot this together"
   ]
  },
  {
   "cell_type": "markdown",
   "metadata": {},
   "source": [
    "### Making our first circuit"
   ]
  },
  {
   "cell_type": "code",
   "execution_count": 3,
   "metadata": {},
   "outputs": [],
   "source": [
    "# In qiskit we can make a quantum circut by using the QuantumCircuit \n",
    "# class, and specifying our number of Quantum bits and Classical bits\n",
    "\n",
    "# example make a Quantum Circuit with 1 qubit and 1 classical bit\n",
    "\n",
    "our_first_quantum_circuit = QuantumCircuit(1,1) \n",
    "\n",
    "# Note that you can call the circuit whatever you want, most of the time\n",
    "# you want to be as specific as possible\n",
    "\n",
    "#NOTE: Unless programmed otherwise ALL qubits start in the |0> state. \n"
   ]
  },
  {
   "cell_type": "markdown",
   "metadata": {},
   "source": [
    "### Use a Gate"
   ]
  },
  {
   "cell_type": "code",
   "execution_count": 4,
   "metadata": {},
   "outputs": [
    {
     "data": {
      "text/plain": [
       "<qiskit.circuit.instructionset.InstructionSet at 0x226af5144f0>"
      ]
     },
     "execution_count": 4,
     "metadata": {},
     "output_type": "execute_result"
    }
   ],
   "source": [
    "# qiskit makes it really easy to use gates, we just need to know which\n",
    "# gate and which qubit(s) we want to use it on\n",
    "\n",
    "#use the hadammard gate on the first qubit in our circuit\n",
    "\n",
    "our_first_quantum_circuit.h(0)\n",
    "\n",
    "# Lets explain what we did! \n",
    "\n",
    "# I used the name of my circuit, then a '.' followed by the gate\n",
    "# h for hadammard, and the in paranthesis I will specify the qubit I am\n",
    "# using the gate on, Python counts starting at 0, so the first qubit \n",
    "# will always be coded as the zeroth! \n"
   ]
  },
  {
   "cell_type": "markdown",
   "metadata": {},
   "source": [
    "### Do a Measurement "
   ]
  },
  {
   "cell_type": "code",
   "execution_count": 5,
   "metadata": {},
   "outputs": [
    {
     "data": {
      "image/png": "[encoded data removed]",
      "text/plain": [
       "<Figure size 504x360 with 1 Axes>"
      ]
     },
     "execution_count": 5,
     "metadata": {},
     "output_type": "execute_result"
    }
   ],
   "source": [
    "# Now we made a circuit, and used a gate, how do we know if it worked?\n",
    "# we Measure it! \n",
    "\n",
    "our_first_quantum_circuit.measure(0,0) # this measures our first qubit\n",
    "\n",
    "# Notice how I have two inputs for measurement, the first input \n",
    "# is the qubit we want to measure and the second is the classical bit\n",
    "# we want to store the measurement in\n",
    "\n",
    "# execute our measurement 1000 times\n",
    "job=execute(our_first_quantum_circuit, M_simulator, shots=1000)\n",
    "\n",
    "#get the results\n",
    "counts=job.result().get_counts()\n",
    "\n",
    "#plot them in a pretty histogram\n",
    "plot_histogram(counts)\n"
   ]
  },
  {
   "cell_type": "code",
   "execution_count": 15,
   "metadata": {},
   "outputs": [
    {
     "name": "stdout",
     "output_type": "stream",
     "text": [
      "This should be the |+> state:  [0.70710678+0.j 0.70710678+0.j]\n"
     ]
    }
   ],
   "source": [
    "# we can also measure the statevector using the S_simulator! \n",
    "# lets make a new ciruit and try it out to get the state vector\n",
    "\n",
    "#make a new circuit \n",
    "state_circuit= QuantumCircuit(1,1) \n",
    "\n",
    "state_circuit.h(0)\n",
    "\n",
    "#NOTE: to find out state in a superposition of state we do NOT measure! \n",
    "\n",
    "# execute our measurement of the statevector \n",
    "job=execute(state_circuit, S_simulator)\n",
    "\n",
    "#get the results\n",
    "state_vector=job.result().get_statevector()\n",
    "\n",
    "#plot them in a pretty histogram\n",
    "print('This should be the |+> state: ', state_vector)\n"
   ]
  },
  {
   "cell_type": "markdown",
   "metadata": {},
   "source": [
    "### Results!\n",
    "\n",
    "These results should make sense to you! Remember, $$ H|0\\rangle = \\frac{1}{\\sqrt{2}}(|0\\rangle + |1\\rangle)=|+\\rangle$$\n",
    "\n",
    "Now to explain the histogram, the simulator works by taking multiple measurements, think about it if you only take one measurement of $|+\\rangle$ you are going to get only $|0\\rangle$ or $|1\\rangle$, to know that my qubit is actually in a superposition of these states we have to take multiple measuremetns or 'shots' as specified in the above code. \n",
    "In this case we specified 1000, the default is 1024 shots. \n",
    "\n",
    "In this case, seeing $|0\\rangle$ and $|1\\rangle$ about half the time in the histogram tells us that we are in either $|+\\rangle$ or $|-\\rangle$.\n",
    "\n"
   ]
  },
  {
   "cell_type": "markdown",
   "metadata": {},
   "source": [
    "### Draw your circuit to see what you did! "
   ]
  },
  {
   "cell_type": "code",
   "execution_count": 7,
   "metadata": {},
   "outputs": [
    {
     "data": {
      "text/html": [
       "<pre style=\"word-wrap: normal;white-space: pre;background: #fff0;line-height: 1.1;font-family: &quot;Courier New&quot;,Courier,monospace\">     ┌───┐┌─┐┌─┐\n",
       "q_0: ┤ H ├┤M├┤M├\n",
       "     └───┘└╥┘└╥┘\n",
       "c: 1/══════╩══╩═\n",
       "           0  0 </pre>"
      ],
      "text/plain": [
       "     ┌───┐┌─┐┌─┐\n",
       "q_0: ┤ H ├┤M├┤M├\n",
       "     └───┘└╥┘└╥┘\n",
       "c: 1/══════╩══╩═\n",
       "           0  0 "
      ]
     },
     "execution_count": 7,
     "metadata": {},
     "output_type": "execute_result"
    }
   ],
   "source": [
    "our_first_quantum_circuit.draw() # the draw method draws your circuit"
   ]
  },
  {
   "cell_type": "code",
   "execution_count": 8,
   "metadata": {},
   "outputs": [
    {
     "data": {
      "image/png": "[encoded data removed]",
      "text/plain": [
       "<Figure size 253.926x144.48 with 1 Axes>"
      ]
     },
     "execution_count": 8,
     "metadata": {},
     "output_type": "execute_result"
    }
   ],
   "source": [
    "# if you use pip install matplotlib in command line you use \n",
    "# the matplotlib drawer to get really pretty circuits\n",
    "our_first_quantum_circuit.draw(output='mpl') "
   ]
  }
 ],
 "metadata": {
  "kernelspec": {
   "display_name": "Python 3",
   "language": "python",
   "name": "python3"
  },
  "language_info": {
   "codemirror_mode": {
    "name": "ipython",
    "version": 3
   },
   "file_extension": ".py",
   "mimetype": "text/x-python",
   "name": "python",
   "nbconvert_exporter": "python",
   "pygments_lexer": "ipython3",
   "version": "3.9.2"
  }
 },
 "nbformat": 4,
 "nbformat_minor": 4
}
