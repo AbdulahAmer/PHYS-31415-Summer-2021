{
 "cells": [
  {
   "cell_type": "markdown",
   "metadata": {},
   "source": [
    "# Quantum Algorithms \n",
    "\n",
    "We will finally start putting gates and circuits together to actually do something! \n",
    "\n",
    "We will however need to first learn about our first (and probably most important) multiqubit gate. \n",
    "\n",
    "The Controlled Not gate also known as CNOT and CX is a multi qubit gate. \n",
    "\n",
    "It has two inputs, a control qubit and a target qubit. \n",
    "\n",
    "When the control qubit is $|0\\rangle$ then the target qubit remains unchanged. \n",
    "\n",
    "When the control qubit is $|1\\rangle$ then the target qubit has the NOT or X gate applied to it. So if the control is qubit is $|1\\rangle$ and the target is $|0\\rangle$ then the output is control qubit $|1\\rangle$ and target qubit $|1\\rangle$. We sometimes denote control qubits with subscript 'c' and target qubits with subscript 't'.\n",
    "\n",
    "Here are the possible inputs and corresponding outputs,\n",
    "\n",
    " Input                         | Output After $CX$\n",
    "                         :---: | :---:\n",
    " $|0\\rangle_c |0\\rangle_t$   |  $|0\\rangle_c |0\\rangle_t$   \n",
    " $|0\\rangle_c |1\\rangle_t$   |  $|0\\rangle_c |1\\rangle_t$\n",
    " $|1\\rangle_c |0\\rangle_t$   |  $|1\\rangle_c |1\\rangle_t$\n",
    " $|1\\rangle_c |1\\rangle_t$   |  $|1\\rangle_c |0\\rangle_t$\n",
    "\n",
    "\n",
    "\n",
    "Now lets take a look at how we use the CNOT in Qiskit! \n",
    "\n"
   ]
  },
  {
   "cell_type": "markdown",
   "metadata": {},
   "source": [
    "## Imports ( do not forget! ) "
   ]
  },
  {
   "cell_type": "code",
   "execution_count": 1,
   "metadata": {},
   "outputs": [],
   "source": [
    "from qiskit import * # this means that from the qiskit package\n",
    "                     # import ALL functionality(*)\n",
    "    \n",
    "# we also want to see our results in insightful ways through graphs! \n",
    "from qiskit.visualization import * # bloch sphere graphs, bar graphs for measurements \n",
    "\n",
    "# We also need to import the simulators that we will use to make measurements\n",
    "\n",
    "S_simulator=Aer.backends(name='statevector_simulator')[0] # allows you to simulate statevectors\n",
    "M_simulator=Aer.backends(name='qasm_simulator')[0] # allows you to simulate measurements"
   ]
  },
  {
   "cell_type": "markdown",
   "metadata": {},
   "source": [
    "## Multiqubit circuit and CNOT gate "
   ]
  },
  {
   "cell_type": "code",
   "execution_count": 2,
   "metadata": {},
   "outputs": [
    {
     "name": "stdout",
     "output_type": "stream",
     "text": [
      "Initial state:  [0.+0.j 1.+0.j 0.+0.j 0.+0.j]\n",
      "state after CX gate:  [0.+0.j 0.+0.j 0.+0.j 1.+0.j]\n"
     ]
    }
   ],
   "source": [
    "# make a quantum circuit with two qubits and two classical bits \n",
    "\n",
    "qc= QuantumCircuit(2,2)\n",
    "\n",
    "# Initialize first qubit to |1> so that we can see CNOT (cx) do something \n",
    "one = [0,1] \n",
    "qc.initialize(one, 0)\n",
    "\n",
    "\n",
    "# print out initial state to confirm that something happens when we use our gate! \n",
    "initial_state=execute(qc, S_simulator).result().get_statevector()\n",
    "print('Initial state: ', initial_state)\n",
    "\n",
    "# use the Cx gate, first qubit as control and second qubit as target\n",
    "qc.cx(0,1)\n",
    "\n",
    "# print out results! \n",
    "state_after_gate= execute(qc, S_simulator).result().get_statevector()\n",
    "print('state after CX gate: ', state_after_gate)"
   ]
  },
  {
   "cell_type": "markdown",
   "metadata": {},
   "source": [
    "## Understanding Multiqubit readout\n",
    "\n",
    "Let us review what are print out from the previous cell was: \n",
    "\n",
    "Initial state:  [0.+0.j 1.+0.j 0.+0.j 0.+0.j]\n",
    "\n",
    "state after CX gate:   [0.+0.j 0.+0.j 0.+0.j 1.+0.j] \n",
    "\n",
    "What does this readout mean? \n",
    "\n",
    "Before we saw that when we printed out the statevector for single qubit circuits we would get something like this: \n",
    "\n",
    "[0.+0.j 1.+0.j]\n",
    "\n",
    "This gives us the probabilty amplitude of each possible state in the system, in the single qubit case here we see we have a probability amplitude of 0 for the $|0\\rangle$ state and a probability amplitude of 1 for the $|1\\rangle$ state. \n",
    "\n",
    "In the 2 qubits case the entries in the statevector list are probability amplitudes for the following states of the total space of qubit a and b ( a is the first and b is the second qubit): \n",
    "\n",
    "\n",
    "[ $|0\\rangle_a$ $0\\rangle_b$ , $|1\\rangle_a$ $0\\rangle_b$ , $|0\\rangle_a$ $1\\rangle_b$ , $|1\\rangle_a$ $1\\rangle_b$]\n",
    "\n",
    "Here we can see that we initilaized our qubit in the $|1\\rangle_a$ $0\\rangle_b$ state and after $CX$ we get the $|1\\rangle_a$ $1\\rangle_b$ state. Our CNOT works exactly as expected! "
   ]
  },
  {
   "cell_type": "markdown",
   "metadata": {},
   "source": [
    "## Deutsch-Jozsa Algorithm \n",
    "\n",
    "Essentialy we take a black box function, we put in some inputs and get out some outputs and need to use these to guess whether our function is balanced or function. Our function takes a 0 or 1 and spits out a 0 or 1. \n",
    "If the fucntion is constant it will always give out a zero or always give out a one. If the function is balanced it will output zero as much as one. \n",
    "\n",
    "Constant | Balanced\n",
    "---|---\n",
    "f(0) = f(1) | f(0) $\\neq$ f(1)\n",
    "\n",
    "The function we can use is something like this \n",
    "\n",
    "$$ U_f |x\\rangle|y\\rangle = |x\\rangle|y \\bigoplus f(x)\\rangle$$\n",
    "\n",
    "where $\\bigoplus$ is modular addition 2. That is, you add two numbers a and b, and we fit them into a ring of 2, any sum thats a multiple of 2 is 0 and any sum that is not a multiple of 2 is 1. \n",
    "\n",
    "#### Examples of mod 2 addition\n",
    "\n",
    "$ 0 \\bigoplus 1 = 1$\n",
    "\n",
    "$ 1 \\bigoplus 1 = 0$ \n",
    "\n",
    "$ 1 \\bigoplus 2 = 1$ \n",
    "\n",
    "$ 2 \\bigoplus 2 = 0$ \n",
    "\n",
    "\n",
    "The set up for the alogrithm is as follows: \n",
    "\n",
    "\n",
    "- Two qubits one in $|0\\rangle$ and one in $|1\\rangle$.\n",
    "\n",
    "- Apply H to both qubits.\n",
    "\n",
    "- Use Qubit that started in $|0\\rangle$ as control qubit and other that started in $|1\\rangle$ as the target qubit for the black box function $U_f$, if control is $|0\\rangle$ then  apply $U_f$, otherwise do nothing. \n",
    "\n",
    "- Apply H to the control qubit and then measure.\n",
    "\n",
    "- If the first qubit is measured to be $|0\\rangle$ we have a constant function and if it is measured to be $|1\\rangle$ we have a balanced function. \n",
    "\n",
    "\n",
    "For DJ to work the last qubit will start in the $|1\\rangle$ state this means that after the first $H$ gate we will know that the bottom qubit is always in the minus state. \n",
    "\n",
    "The CX gate is a perfect substitute for our balanced $U_f$! \n"
   ]
  },
  {
   "cell_type": "markdown",
   "metadata": {},
   "source": [
    "### Balanced"
   ]
  },
  {
   "cell_type": "code",
   "execution_count": 3,
   "metadata": {
    "scrolled": true
   },
   "outputs": [
    {
     "data": {
      "image/png": "[encoded data removed]",
      "text/plain": [
       "<Figure size 628.252x204.68 with 1 Axes>"
      ]
     },
     "execution_count": 3,
     "metadata": {},
     "output_type": "execute_result"
    }
   ],
   "source": [
    "# example of DJ algorithm (CX for balanced)\n",
    "\n",
    "# make circuit\n",
    "dj = QuantumCircuit(2,2)\n",
    "\n",
    "# Initialize second qubit\n",
    "one=[0,1]\n",
    "dj.initialize(one, 1)\n",
    "\n",
    "# we use barries to seperate steps \n",
    "dj.barrier()\n",
    "\n",
    "# Apply H gates \n",
    "dj.h(0)\n",
    "dj.h(1)\n",
    "\n",
    "dj.barrier()\n",
    "\n",
    "# Use cx as Uf \n",
    "dj.cx(0,1)\n",
    "\n",
    "dj.barrier()\n",
    "\n",
    "dj.h(0)\n",
    "\n",
    "dj.barrier()\n",
    "\n",
    "dj.measure(0,0)\n",
    "\n",
    "dj.draw(output='mpl')\n",
    "\n"
   ]
  },
  {
   "cell_type": "markdown",
   "metadata": {},
   "source": [
    "Lets get our results from balanced"
   ]
  },
  {
   "cell_type": "code",
   "execution_count": 4,
   "metadata": {},
   "outputs": [
    {
     "data": {
      "image/png": "[encoded data removed]",
      "text/plain": [
       "<Figure size 504x360 with 1 Axes>"
      ]
     },
     "execution_count": 4,
     "metadata": {},
     "output_type": "execute_result"
    }
   ],
   "source": [
    "plot_histogram(execute(dj, M_simulator).result().get_counts())"
   ]
  },
  {
   "cell_type": "markdown",
   "metadata": {},
   "source": [
    "### Our results! \n",
    "\n",
    "Take a look at our results, it says that we got the $|01\\rangle$ state. BUT Qiskit prints in little endian encoding, this means that qiskit reads from the last qubit to the first (left to right respectfully).\n",
    "\n",
    "So when we see 01 in our results that means that our circuit is actually in the $|10\\rangle$ state! which means our first qubit is in the $|1\\rangle$ state which means that our function is balanced! \n",
    "\n"
   ]
  },
  {
   "cell_type": "markdown",
   "metadata": {},
   "source": [
    "### Constant \n",
    "\n",
    "constant is really simple we could do nothing and get our desired result! "
   ]
  },
  {
   "cell_type": "code",
   "execution_count": 5,
   "metadata": {},
   "outputs": [
    {
     "data": {
      "image/png": "[encoded data removed]",
      "text/plain": [
       "<Figure size 568.052x204.68 with 1 Axes>"
      ]
     },
     "execution_count": 5,
     "metadata": {},
     "output_type": "execute_result"
    }
   ],
   "source": [
    "# example of DJ algorithm (CX for balanced)\n",
    "\n",
    "# make circuit\n",
    "dj = QuantumCircuit(2,2)\n",
    "\n",
    "# Initialize second qubit\n",
    "one=[0,1]\n",
    "dj.initialize(one, 1)\n",
    "\n",
    "# we use barries to seperate steps \n",
    "dj.barrier()\n",
    "\n",
    "# Apply H gates \n",
    "dj.h(0)\n",
    "dj.h(1)\n",
    "\n",
    "dj.barrier()\n",
    "\n",
    "# do nothing for constant function\n",
    "\n",
    "dj.barrier()\n",
    "\n",
    "dj.h(0)\n",
    "\n",
    "dj.barrier()\n",
    "\n",
    "dj.measure(0,0)\n",
    "\n",
    "dj.draw(output='mpl')"
   ]
  },
  {
   "cell_type": "code",
   "execution_count": 6,
   "metadata": {},
   "outputs": [
    {
     "data": {
      "image/png": "[encoded data removed]",
      "text/plain": [
       "<Figure size 504x360 with 1 Axes>"
      ]
     },
     "execution_count": 6,
     "metadata": {},
     "output_type": "execute_result"
    }
   ],
   "source": [
    "plot_histogram(execute(dj, M_simulator).result().get_counts())"
   ]
  },
  {
   "cell_type": "markdown",
   "metadata": {},
   "source": [
    "Take a look we get a 0 in our first qubit which means our function was constant! "
   ]
  }
 ],
 "metadata": {
  "kernelspec": {
   "display_name": "Python 3",
   "language": "python",
   "name": "python3"
  },
  "language_info": {
   "codemirror_mode": {
    "name": "ipython",
    "version": 3
   },
   "file_extension": ".py",
   "mimetype": "text/x-python",
   "name": "python",
   "nbconvert_exporter": "python",
   "pygments_lexer": "ipython3",
   "version": "3.9.2"
  }
 },
 "nbformat": 4,
 "nbformat_minor": 4
}
